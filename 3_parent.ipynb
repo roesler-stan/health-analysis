{
 "cells": [
  {
   "cell_type": "code",
   "execution_count": 1,
   "id": "marine-sydney",
   "metadata": {},
   "outputs": [],
   "source": [
    "%run constants.ipynb\n",
    "\n",
    "# Public example - replace with your own sheet ID (from the middle of the URL)\n",
    "SHEET_ID = \"1ZZP9MqIlzUlu6MgsLTdogAXfqFi91Oi59sjLXQch_qQ\"\n",
    "DATAFRAME_OUTFILE = \"data/timeline.csv\""
   ]
  },
  {
   "cell_type": "code",
   "execution_count": 21,
   "id": "crude-height",
   "metadata": {},
   "outputs": [],
   "source": [
    "# Run the notebook, passing and storing arguments\n",
    "run_notebook(\n",
    "    notebook_file=\"1_clean.ipynb\",\n",
    "    output_file=\"output/clean.html\",\n",
    "    sheet_id=SHEET_ID,\n",
    "    dataframe_outfile=DATAFRAME_OUTFILE,\n",
    ")"
   ]
  },
  {
   "cell_type": "code",
   "execution_count": 30,
   "id": "compact-helicopter",
   "metadata": {},
   "outputs": [],
   "source": [
    "# Run the notebook, passing and storing arguments\n",
    "run_notebook(\n",
    "    notebook_file=\"2_analysis.ipynb\",\n",
    "    output_file=\"output/analysis.html\",\n",
    "    sheet_id=SHEET_ID,\n",
    "    dataframe_outfile=DATAFRAME_OUTFILE,\n",
    "    output_directory=\"output\",\n",
    ")"
   ]
  }
 ],
 "metadata": {
  "kernelspec": {
   "display_name": "Python 3",
   "language": "python",
   "name": "python3"
  },
  "language_info": {
   "codemirror_mode": {
    "name": "ipython",
    "version": 3
   },
   "file_extension": ".py",
   "mimetype": "text/x-python",
   "name": "python",
   "nbconvert_exporter": "python",
   "pygments_lexer": "ipython3",
   "version": "3.9.18"
  }
 },
 "nbformat": 4,
 "nbformat_minor": 5
}
