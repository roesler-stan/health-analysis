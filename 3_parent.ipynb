{
 "cells": [
  {
   "cell_type": "code",
   "execution_count": 1,
   "id": "eastern-vocabulary",
   "metadata": {},
   "outputs": [],
   "source": [
    "%run constants.ipynb\n",
    "\n",
    "# Public example - replace with your own sheet ID (from the middle of the URL)\n",
    "# NOTE: you need to share your Google sheet with your Google API service account email\n",
    "# e.g. read-spreadsheet@health-log-406515.iam.gserviceaccount.com\n",
    "# SHEET_ID = \"1ZZP9MqIlzUlu6MgsLTdogAXfqFi91Oi59sjLXQch_qQ\"\n",
    "SHEET_ID = \"1H7tvH_aUT34nprZMP_3M8Cm6i_UuaGEcPGI3AX_harY\"\n",
    "DATAFRAME_OUTFILE = \"data/timeline.csv\"\n",
    "OUTPUT_DIRECTORY = \"output\""
   ]
  },
  {
   "cell_type": "code",
   "execution_count": 4,
   "id": "rocky-details",
   "metadata": {},
   "outputs": [],
   "source": [
    "run_notebook(\n",
    "    notebook_file=\"1_clean.ipynb\",\n",
    "    output_file=\"output/clean.html\",\n",
    "    sheet_id=SHEET_ID,\n",
    "    dataframe_outfile=DATAFRAME_OUTFILE,\n",
    "    output_directory=OUTPUT_DIRECTORY,\n",
    ")"
   ]
  },
  {
   "cell_type": "code",
   "execution_count": 12,
   "id": "charming-mumbai",
   "metadata": {},
   "outputs": [],
   "source": [
    "run_notebook(\n",
    "    notebook_file=\"2_analysis.ipynb\",\n",
    "    output_file=\"output/analysis.html\",\n",
    "    sheet_id=SHEET_ID,\n",
    "    dataframe_outfile=DATAFRAME_OUTFILE,\n",
    "    output_directory=OUTPUT_DIRECTORY,\n",
    ")"
   ]
  },
  {
   "cell_type": "code",
   "execution_count": null,
   "id": "unlimited-protest",
   "metadata": {},
   "outputs": [],
   "source": [
    "# Pared down version to give to doctors\n",
    "run_notebook(\n",
    "    notebook_file=\"2b_analysis_for_drs.ipynb\",\n",
    "    output_file=\"output/analysis_for_drs.html\",\n",
    "    sheet_id=SHEET_ID,\n",
    "    dataframe_outfile=DATAFRAME_OUTFILE,\n",
    "    output_directory=OUTPUT_DIRECTORY,\n",
    ")"
   ]
  }
 ],
 "metadata": {
  "kernelspec": {
   "display_name": "Python 3",
   "language": "python",
   "name": "python3"
  },
  "language_info": {
   "codemirror_mode": {
    "name": "ipython",
    "version": 3
   },
   "file_extension": ".py",
   "mimetype": "text/x-python",
   "name": "python",
   "nbconvert_exporter": "python",
   "pygments_lexer": "ipython3",
   "version": "3.9.18"
  }
 },
 "nbformat": 4,
 "nbformat_minor": 5
}
