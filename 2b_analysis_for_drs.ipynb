{
 "cells": [
  {
   "cell_type": "markdown",
   "id": "ordinary-volunteer",
   "metadata": {},
   "source": [
    "# Health Analysis"
   ]
  },
  {
   "cell_type": "code",
   "execution_count": 63,
   "id": "undefined-nashville",
   "metadata": {},
   "outputs": [],
   "source": [
    "%run analysis_functions.ipynb"
   ]
  },
  {
   "cell_type": "code",
   "execution_count": 64,
   "id": "worth-genre",
   "metadata": {},
   "outputs": [],
   "source": [
    "df, arguments = read_clean_data()\n",
    "sheet_id = arguments[\"sheet_id\"]\n",
    "url = f\"https://docs.google.com/spreadsheets/d/{sheet_id}\""
   ]
  },
  {
   "cell_type": "markdown",
   "id": "compatible-likelihood",
   "metadata": {},
   "source": [
    "<hr style=\"height:2px;border-width:0;color:black;background-color:black\">"
   ]
  },
  {
   "cell_type": "markdown",
   "id": "asian-brother",
   "metadata": {},
   "source": [
    "## Cervical mucus charting"
   ]
  },
  {
   "cell_type": "code",
   "execution_count": null,
   "id": "accompanied-chancellor",
   "metadata": {},
   "outputs": [],
   "source": [
    "chart = chart_cervical_mucus(\n",
    "    df,\n",
    "    with_text=False,\n",
    "    outfile=\"charting\",\n",
    ")"
   ]
  },
  {
   "cell_type": "markdown",
   "id": "supreme-federation",
   "metadata": {},
   "source": [
    "### ![](charting.png)"
   ]
  },
  {
   "cell_type": "code",
   "execution_count": null,
   "id": "circular-creation",
   "metadata": {},
   "outputs": [],
   "source": [
    "# Generate to save, but don't display\n",
    "chart = chart_cervical_mucus(\n",
    "    df,\n",
    "    with_text=True,\n",
    "    outfile=\"charting_with_text\",\n",
    ")"
   ]
  },
  {
   "cell_type": "markdown",
   "id": "competent-cartoon",
   "metadata": {},
   "source": [
    "<hr style=\"height:2px;border-width:0;color:black;background-color:black\">"
   ]
  },
  {
   "cell_type": "markdown",
   "id": "sixth-agency",
   "metadata": {},
   "source": [
    "## Current symptoms\n",
    "- Severe pelvic pain\n",
    "- Severe stomach pain when empty\n",
    "- Abdominal bloating, tightness, and stabbing pains, esp. on right side\n",
    "- Nausea in morning\n",
    "- Frequent loose and painful BMs\n",
    "- Frequent urination, painful bladder, white clouds in urine\n",
    "- Near-daily headaches\n",
    "- Painful joints (fingers, wrists, ankles, knee), swollen index finger\n",
    "- Fatigue\n",
    "- Occassional hypoglycemia: shaky and weak if I miss a meal\n",
    "- Low libido"
   ]
  },
  {
   "cell_type": "markdown",
   "id": "mobile-crystal",
   "metadata": {},
   "source": [
    "## Symptoms, quantified"
   ]
  },
  {
   "cell_type": "code",
   "execution_count": 27,
   "id": "inner-broadcasting",
   "metadata": {},
   "outputs": [],
   "source": [
    "numeric_metrics = [\n",
    "    \"BMs\",\n",
    "    \"previous night Oura score\",\n",
    "    \"steps\",\n",
    "]\n",
    "\n",
    "categorical_metrics = [\n",
    "    \"pelvic pain\",\n",
    "    \"stomach pain\",\n",
    "    \"fatigue\",\n",
    "    \"headache\",\n",
    "    \"uncomfortable stomach\",\n",
    "    \"bloated stomach_bool\",\n",
    "    \"diarrhea_bool\",\n",
    "    \"nausea\",\n",
    "    \"white clouds in urine\",\n",
    "]"
   ]
  },
  {
   "cell_type": "code",
   "execution_count": 28,
   "id": "adopted-poetry",
   "metadata": {},
   "outputs": [
    {
     "name": "stdout",
     "output_type": "stream",
     "text": [
      "03/10/24 - 04/08/24\n",
      "\n",
      "83% of days had uncomfortable stomach.\n",
      "83% of days had bloated stomach.\n",
      "77% of days had headache.\n",
      "57% of days had fatigue.\n",
      "43% of days had stomach pain at least 5 / 10.\n",
      "43% of days had pelvic pain at least 5 / 10.\n",
      "27% of days had nausea.\n",
      "23% of days had diarrhea.\n",
      "20% of days had white clouds in urine.\n",
      "\n",
      "3 BMs / day\n",
      "88 / 100 sleep score\n",
      "9,738 steps / day\n",
      "\n"
     ]
    }
   ],
   "source": [
    "# last N days, excluding most recent, incomplete day\n",
    "last_n_days = 30\n",
    "start_dt = df[- last_n_days - 1: -1].index.min()\n",
    "end_dt = df[- last_n_days - 1: -1].index.max()\n",
    "min_pain = 4\n",
    "\n",
    "summary = generate_summary(\n",
    "    df,\n",
    "    start_dt,\n",
    "    end_dt,\n",
    "    categorical_metrics,\n",
    "    numeric_metrics,\n",
    "    min_pain=min_pain,\n",
    ")\n",
    "print(summary)"
   ]
  },
  {
   "cell_type": "code",
   "execution_count": 29,
   "id": "arbitrary-waste",
   "metadata": {},
   "outputs": [],
   "source": [
    "# Right before second surgery\n",
    "start_dt = datetime.datetime(2023, 9, 1)\n",
    "end_dt = datetime.datetime(2023, 9, 26)"
   ]
  },
  {
   "cell_type": "markdown",
   "id": "israeli-premium",
   "metadata": {},
   "source": [
    "<hr style=\"height:2px;border-width:0;color:black;background-color:black\">"
   ]
  },
  {
   "cell_type": "markdown",
   "id": "increased-sally",
   "metadata": {},
   "source": [
    "## Medications"
   ]
  },
  {
   "cell_type": "code",
   "execution_count": 30,
   "id": "specified-arctic",
   "metadata": {},
   "outputs": [
    {
     "name": "stdout",
     "output_type": "stream",
     "text": [
      "04/08/24\n",
      "\n",
      "2500 mg Acetaminophen\n",
      "\n"
     ]
    }
   ],
   "source": [
    "# second to last day, since today likely isn't over yet\n",
    "end_dt = df.index[-2]\n",
    "n_days = 1\n",
    "\n",
    "summary = generate_med_summary(\n",
    "    df,\n",
    "    end_dt,\n",
    "    n_days,\n",
    ")\n",
    "print(summary)"
   ]
  },
  {
   "cell_type": "code",
   "execution_count": null,
   "id": "sapphire-african",
   "metadata": {},
   "outputs": [],
   "source": [
    "plot_meds_over_time(df)"
   ]
  },
  {
   "cell_type": "code",
   "execution_count": 71,
   "id": "competent-copyright",
   "metadata": {},
   "outputs": [
    {
     "data": {
      "image/png": "[encoded data removed]",
      "text/plain": [
       "<Figure size 864x576 with 1 Axes>"
      ]
     },
     "metadata": {},
     "output_type": "display_data"
    }
   ],
   "source": [
    "diets = [\"low inflammation\", \"elimination\", \"adding back\"]\n",
    "df, metric_data, diet_data, metrics_dict = get_diet_data(df, diets)\n",
    "start_dt = pd.datetime(2024, 1, 1)\n",
    "end_dt = df.index[-2]\n",
    "rolling_days = 7\n",
    "\n",
    "metrics = [\n",
    "    \"BMs\",\n",
    "]\n",
    "for metric in metrics:\n",
    "    plot_diet_metric(\n",
    "        metric,\n",
    "        df,\n",
    "        diet_data,\n",
    "        start_dt,\n",
    "        end_dt,\n",
    "        rolling_days=rolling_days,\n",
    "        include_scatter=True,\n",
    "    )"
   ]
  },
  {
   "cell_type": "code",
   "execution_count": null,
   "id": "rolled-airline",
   "metadata": {},
   "outputs": [],
   "source": [
    "## T-tests comparing diets\n",
    "\n",
    "# control_diet = \"elimination\"\n",
    "# other_diets = [\"low inflammation\", \"adding back\"]\n",
    "\n",
    "# # remove transition period, before diet can have an effect\n",
    "# transition_days = 14\n",
    "\n",
    "# for other_diet in other_diets:\n",
    "#     print(f\"{other_diet} vs. {control_diet}\")\n",
    "    \n",
    "#     control = df[df[\"diet name\"] == control_diet][transition_days:]\n",
    "#     other = df[df[\"diet name\"] == other_diet][transition_days:]\n",
    "\n",
    "#     for metric in metrics:\n",
    "#         stat, p = ttest_ind(\n",
    "#             other[metric].dropna(),\n",
    "#             control[metric].dropna(),\n",
    "#         )\n",
    "#         ratio = other[metric].mean() / control[metric].mean()\n",
    "        \n",
    "#         metric_str = metric.replace(\"_bool\", \"\")\n",
    "#         print(f\"{metric_str}: {round(stat, 2)}, p={round(p, 3)}\")\n",
    "\n",
    "#     print()"
   ]
  }
 ],
 "metadata": {
  "kernelspec": {
   "display_name": "Python 3",
   "language": "python",
   "name": "python3"
  },
  "language_info": {
   "codemirror_mode": {
    "name": "ipython",
    "version": 3
   },
   "file_extension": ".py",
   "mimetype": "text/x-python",
   "name": "python",
   "nbconvert_exporter": "python",
   "pygments_lexer": "ipython3",
   "version": "3.9.18"
  }
 },
 "nbformat": 4,
 "nbformat_minor": 5
}
