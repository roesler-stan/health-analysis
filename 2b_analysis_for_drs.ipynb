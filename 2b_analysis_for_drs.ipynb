{
 "cells": [
  {
   "cell_type": "markdown",
   "id": "funded-spiritual",
   "metadata": {},
   "source": [
    "# Health Analysis"
   ]
  },
  {
   "cell_type": "code",
   "execution_count": 26,
   "id": "whole-arrest",
   "metadata": {},
   "outputs": [],
   "source": [
    "%run analysis_functions.ipynb"
   ]
  },
  {
   "cell_type": "code",
   "execution_count": 6,
   "id": "divine-messaging",
   "metadata": {},
   "outputs": [],
   "source": [
    "df, arguments = read_clean_data()\n",
    "sheet_id = arguments[\"sheet_id\"]\n",
    "url = f\"https://docs.google.com/spreadsheets/d/{sheet_id}\""
   ]
  },
  {
   "cell_type": "markdown",
   "id": "usual-lemon",
   "metadata": {},
   "source": [
    "<hr style=\"height:2px;border-width:0;color:black;background-color:black\">"
   ]
  },
  {
   "cell_type": "markdown",
   "id": "mexican-bradley",
   "metadata": {},
   "source": [
    "## Cervical mucus charting"
   ]
  },
  {
   "cell_type": "code",
   "execution_count": 27,
   "id": "accepting-break",
   "metadata": {},
   "outputs": [],
   "source": [
    "chart = chart_cervical_mucus(\n",
    "    df,\n",
    "    with_text=False,\n",
    "    outfile=\"charting\",\n",
    ")"
   ]
  },
  {
   "cell_type": "markdown",
   "id": "plain-wheel",
   "metadata": {},
   "source": [
    "### ![](charting.png)"
   ]
  },
  {
   "cell_type": "code",
   "execution_count": null,
   "id": "global-decrease",
   "metadata": {},
   "outputs": [],
   "source": [
    "chart = chart_cervical_mucus(\n",
    "    df,\n",
    "    with_text=True,\n",
    "    outfile=\"charting_with_text\",\n",
    ")"
   ]
  },
  {
   "cell_type": "markdown",
   "id": "respiratory-diagram",
   "metadata": {},
   "source": [
    "### ![](charting_with_text.png)"
   ]
  },
  {
   "cell_type": "markdown",
   "id": "tender-taxation",
   "metadata": {},
   "source": [
    "<hr style=\"height:2px;border-width:0;color:black;background-color:black\">"
   ]
  },
  {
   "cell_type": "markdown",
   "id": "extreme-chicago",
   "metadata": {},
   "source": [
    "## Symptoms snapshot"
   ]
  },
  {
   "cell_type": "code",
   "execution_count": 24,
   "id": "cultural-advice",
   "metadata": {},
   "outputs": [],
   "source": [
    "numeric_metrics = [\n",
    "#     \"pelvic pain\",\n",
    "#     \"stomach pain\",\n",
    "    \"BMs\",\n",
    "    \"previous night Oura score\",\n",
    "    \"steps\",\n",
    "]\n",
    "\n",
    "categorical_metrics = [\n",
    "    \"pelvic pain\",\n",
    "    \"stomach pain\",\n",
    "    \"fatigue\",\n",
    "    \"headache\",\n",
    "    \"uncomfortable stomach\",\n",
    "    \"visibly bloated stomach\",\n",
    "    \"diarrhea\",\n",
    "    \"nauseous\",\n",
    "    \"white clouds in urine\",\n",
    "]"
   ]
  },
  {
   "cell_type": "markdown",
   "id": "bacterial-memorabilia",
   "metadata": {},
   "source": [
    "#### Last month"
   ]
  },
  {
   "cell_type": "code",
   "execution_count": 25,
   "id": "corresponding-people",
   "metadata": {},
   "outputs": [
    {
     "name": "stdout",
     "output_type": "stream",
     "text": [
      "12/23/23 - 01/19/24\n",
      "\n",
      "93% of days had fatigue.\n",
      "89% of days had visibly bloated stomach.\n",
      "89% of days had stomach pain at least 3 / 10.\n",
      "86% of days had pelvic pain at least 3 / 10.\n",
      "79% of days had headache.\n",
      "57% of days had white clouds in urine.\n",
      "32% of days had nausea.\n",
      "18% of days had uncomfortable stomach.\n",
      "7% of days had diarrhea.\n",
      "\n",
      "3 BMs / day\n",
      "82 / 100 sleep score\n",
      "9,650 steps / day\n",
      "\n"
     ]
    }
   ],
   "source": [
    "# last N days, excluding most recent, incomplete day\n",
    "last_n_days = 30\n",
    "start_dt = df[- last_n_days - 1: -1].index.min()\n",
    "end_dt = df[- last_n_days - 1: -1].index.max()\n",
    "min_pain = 3\n",
    "\n",
    "summary = generate_summary(\n",
    "    df,\n",
    "    start_dt,\n",
    "    end_dt,\n",
    "    categorical_metrics,\n",
    "    numeric_metrics,\n",
    "    min_pain=min_pain,\n",
    ")\n",
    "print(summary)"
   ]
  },
  {
   "cell_type": "code",
   "execution_count": 26,
   "id": "amino-technology",
   "metadata": {},
   "outputs": [
    {
     "name": "stdout",
     "output_type": "stream",
     "text": [
      "09/01/23 - 09/26/23\n",
      "\n",
      "96% of days had stomach pain at least 3 / 10.\n",
      "96% of days had pelvic pain at least 3 / 10.\n",
      "96% of days had fatigue.\n",
      "92% of days had headache.\n",
      "44% of days had white clouds in urine.\n",
      "44% of days had nausea.\n",
      "32% of days had visibly bloated stomach.\n",
      "12% of days had diarrhea.\n",
      "0% of days had uncomfortable stomach.\n",
      "\n",
      "2 BMs / day\n",
      "76 / 100 sleep score\n",
      "9,094 steps / day\n",
      "\n"
     ]
    }
   ],
   "source": [
    "# Right before second surgery\n",
    "start_dt = datetime.datetime(2023, 9, 1)\n",
    "end_dt = datetime.datetime(2023, 9, 26)"
   ]
  },
  {
   "cell_type": "markdown",
   "id": "corresponding-latex",
   "metadata": {},
   "source": [
    "<hr style=\"height:2px;border-width:0;color:black;background-color:black\">"
   ]
  },
  {
   "cell_type": "markdown",
   "id": "decreased-remark",
   "metadata": {},
   "source": [
    "## Medications"
   ]
  },
  {
   "cell_type": "markdown",
   "id": "appreciated-syndication",
   "metadata": {},
   "source": [
    "#### Today"
   ]
  },
  {
   "cell_type": "code",
   "execution_count": 27,
   "id": "clean-preparation",
   "metadata": {},
   "outputs": [
    {
     "name": "stdout",
     "output_type": "stream",
     "text": [
      "01/19/24\n",
      "\n",
      "15 mg THC / day\n",
      "15 mg CBD / day\n",
      "250 mg Vitamin B6 / day\n",
      "2000 IU Vitamin D3 / day\n",
      "1000 mcg Vitamin B12 / day\n",
      "25 mg DHEA / day\n",
      "50 mg Pycnogenol / day\n",
      "1000 mg fish oil / day\n",
      "40 mg Omeprazole / day\n",
      "\n"
     ]
    }
   ],
   "source": [
    "# second to last day, since today likely isn't over yet\n",
    "end_dt = df.index[-2]\n",
    "n_days = 1\n",
    "\n",
    "summary = generate_med_summary(\n",
    "    df,\n",
    "    end_dt,\n",
    "    n_days,\n",
    ")\n",
    "print(summary)"
   ]
  }
 ],
 "metadata": {
  "kernelspec": {
   "display_name": "Python 3",
   "language": "python",
   "name": "python3"
  },
  "language_info": {
   "codemirror_mode": {
    "name": "ipython",
    "version": 3
   },
   "file_extension": ".py",
   "mimetype": "text/x-python",
   "name": "python",
   "nbconvert_exporter": "python",
   "pygments_lexer": "ipython3",
   "version": "3.9.18"
  }
 },
 "nbformat": 4,
 "nbformat_minor": 5
}
