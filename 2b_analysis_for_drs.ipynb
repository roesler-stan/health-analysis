{
 "cells": [
  {
   "cell_type": "markdown",
   "id": "structured-guess",
   "metadata": {},
   "source": [
    "# Health Analysis"
   ]
  },
  {
   "cell_type": "code",
   "execution_count": 1,
   "id": "wrapped-trash",
   "metadata": {},
   "outputs": [],
   "source": [
    "%run analysis_functions.ipynb"
   ]
  },
  {
   "cell_type": "code",
   "execution_count": 2,
   "id": "individual-panic",
   "metadata": {},
   "outputs": [],
   "source": [
    "df, arguments = read_clean_data()\n",
    "sheet_id = arguments[\"sheet_id\"]\n",
    "url = f\"https://docs.google.com/spreadsheets/d/{sheet_id}\""
   ]
  },
  {
   "cell_type": "markdown",
   "id": "crucial-evening",
   "metadata": {},
   "source": [
    "<hr style=\"height:2px;border-width:0;color:black;background-color:black\">"
   ]
  },
  {
   "cell_type": "markdown",
   "id": "viral-mining",
   "metadata": {},
   "source": [
    "## Cervical mucus charting"
   ]
  },
  {
   "cell_type": "code",
   "execution_count": 3,
   "id": "purple-athens",
   "metadata": {},
   "outputs": [],
   "source": [
    "chart_cervical_mucus(\n",
    "    df,\n",
    "    with_text=False,\n",
    "    outfile=\"charting\",\n",
    ")"
   ]
  },
  {
   "cell_type": "markdown",
   "id": "peripheral-reader",
   "metadata": {},
   "source": [
    "#### With dates and descriptions"
   ]
  },
  {
   "cell_type": "code",
   "execution_count": 4,
   "id": "distinct-climate",
   "metadata": {},
   "outputs": [],
   "source": [
    "chart_cervical_mucus(\n",
    "    df,\n",
    "    with_text=True,\n",
    ")"
   ]
  },
  {
   "cell_type": "markdown",
   "id": "contrary-clarity",
   "metadata": {},
   "source": [
    "<hr style=\"height:2px;border-width:0;color:black;background-color:black\">"
   ]
  },
  {
   "cell_type": "markdown",
   "id": "streaming-washer",
   "metadata": {},
   "source": [
    "## Symptoms snapshot"
   ]
  },
  {
   "cell_type": "code",
   "execution_count": 14,
   "id": "three-specific",
   "metadata": {},
   "outputs": [],
   "source": [
    "numeric_metrics = [\n",
    "    \"pelvic pain\",\n",
    "    \"stomach pain\",\n",
    "    \"BMs\",\n",
    "    \"previous night Oura score\",\n",
    "    \"steps\",\n",
    "]\n",
    "\n",
    "categorical_metrics = [\n",
    "    \"fatigue\",\n",
    "    \"headache\",\n",
    "    \"bloated stomach\",\n",
    "    \"diarrhea\",\n",
    "    \"nauseous\",\n",
    "    \"white clouds in urine\",\n",
    "]"
   ]
  },
  {
   "cell_type": "markdown",
   "id": "conditional-resource",
   "metadata": {},
   "source": [
    "#### Last week"
   ]
  },
  {
   "cell_type": "code",
   "execution_count": 15,
   "id": "limiting-melissa",
   "metadata": {},
   "outputs": [
    {
     "name": "stdout",
     "output_type": "stream",
     "text": [
      "01/01/24 - 01/07/24\n",
      "\n",
      "100% of days had fatigue.\n",
      "86% of days had headache.\n",
      "86% of days had bloated stomach.\n",
      "57% of days had white clouds in urine.\n",
      "29% of days had nausea.\n",
      "14% of days had diarrhea.\n",
      "\n",
      "4 / 10 pelvic pain\n",
      "4 / 10 stomach pain\n",
      "3 BMs / day\n",
      "78 / 100 sleep score\n",
      "9,918 steps / day\n",
      "\n"
     ]
    }
   ],
   "source": [
    "# last N days, excluding most recent, incomplete day\n",
    "last_n_days = 7\n",
    "start_dt = df[- last_n_days - 1: -1].index.min()\n",
    "end_dt = df[- last_n_days - 1: -1].index.max()\n",
    "\n",
    "summary = generate_summary(\n",
    "    df,\n",
    "    start_dt,\n",
    "    end_dt,\n",
    "    categorical_metrics,\n",
    "    numeric_metrics,\n",
    ")\n",
    "print(summary)"
   ]
  },
  {
   "cell_type": "markdown",
   "id": "tribal-demand",
   "metadata": {},
   "source": [
    "#### Right before second surgery"
   ]
  },
  {
   "cell_type": "code",
   "execution_count": 16,
   "id": "irish-edition",
   "metadata": {},
   "outputs": [
    {
     "name": "stdout",
     "output_type": "stream",
     "text": [
      "09/01/23 - 09/26/23\n",
      "\n",
      "96% of days had fatigue.\n",
      "92% of days had headache.\n",
      "44% of days had white clouds in urine.\n",
      "44% of days had nausea.\n",
      "32% of days had bloated stomach.\n",
      "12% of days had diarrhea.\n",
      "\n",
      "5 / 10 pelvic pain\n",
      "5 / 10 stomach pain\n",
      "2 BMs / day\n",
      "76 / 100 sleep score\n",
      "9,094 steps / day\n",
      "\n"
     ]
    }
   ],
   "source": [
    "start_dt = datetime.datetime(2023, 9, 1)\n",
    "end_dt = datetime.datetime(2023, 9, 26)\n",
    "\n",
    "summary = generate_summary(\n",
    "    df,\n",
    "    start_dt,\n",
    "    end_dt,\n",
    "    categorical_metrics,\n",
    "    numeric_metrics,\n",
    ")\n",
    "print(summary)"
   ]
  },
  {
   "cell_type": "markdown",
   "id": "premium-humidity",
   "metadata": {},
   "source": [
    "<hr style=\"height:2px;border-width:0;color:black;background-color:black\">"
   ]
  },
  {
   "cell_type": "markdown",
   "id": "conscious-developer",
   "metadata": {},
   "source": [
    "## Medications"
   ]
  },
  {
   "cell_type": "markdown",
   "id": "female-detroit",
   "metadata": {},
   "source": [
    "#### Today"
   ]
  },
  {
   "cell_type": "code",
   "execution_count": 17,
   "id": "dutch-exclusive",
   "metadata": {},
   "outputs": [
    {
     "name": "stdout",
     "output_type": "stream",
     "text": [
      "01/07/24 - 01/07/24\n",
      "\n",
      "8 mg THC / day\n",
      "8 mg CBD / day\n",
      "fish oil\n",
      "Nexium\n",
      "DHEA\n",
      "Vitamin B6\n",
      "Vitamin B12\n",
      "Pycnogenol\n",
      "Vitamin D3\n",
      "\n"
     ]
    }
   ],
   "source": [
    "# second to last day, since today likely isn't over yet\n",
    "end_dt = df.index[-2]\n",
    "n_days = 1\n",
    "\n",
    "summary = generate_med_summary(\n",
    "    df,\n",
    "    end_dt,\n",
    "    n_days,\n",
    ")\n",
    "print(summary)"
   ]
  },
  {
   "cell_type": "markdown",
   "id": "attempted-subscription",
   "metadata": {},
   "source": [
    "#### Last month"
   ]
  },
  {
   "cell_type": "code",
   "execution_count": 18,
   "id": "mexican-habitat",
   "metadata": {},
   "outputs": [
    {
     "name": "stdout",
     "output_type": "stream",
     "text": [
      "12/11/23 - 01/07/24\n",
      "\n",
      "89 mg Acetaminophen / day\n",
      "9 mg THC / day\n",
      "9 mg CBD / day\n",
      "Zinc\n",
      "fish oil\n",
      "Nexium\n",
      "Esomeprazole\n",
      "DHEA\n",
      "Omeprazole\n",
      "Vitamin B6\n",
      "Vitamin C\n",
      "Vitamin B12\n",
      "Pycnogenol\n",
      "Vitamin D3\n",
      "\n"
     ]
    }
   ],
   "source": [
    "end_dt = df.index[-2]\n",
    "n_days = 28\n",
    "\n",
    "summary = generate_med_summary(\n",
    "    df,\n",
    "    end_dt,\n",
    "    n_days,\n",
    ")\n",
    "print(summary)"
   ]
  }
 ],
 "metadata": {
  "kernelspec": {
   "display_name": "Python 3",
   "language": "python",
   "name": "python3"
  },
  "language_info": {
   "codemirror_mode": {
    "name": "ipython",
    "version": 3
   },
   "file_extension": ".py",
   "mimetype": "text/x-python",
   "name": "python",
   "nbconvert_exporter": "python",
   "pygments_lexer": "ipython3",
   "version": "3.9.18"
  }
 },
 "nbformat": 4,
 "nbformat_minor": 5
}
