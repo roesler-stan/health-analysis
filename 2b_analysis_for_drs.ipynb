{
 "cells": [
  {
   "cell_type": "markdown",
   "id": "human-nudist",
   "metadata": {},
   "source": [
    "# Health Analysis"
   ]
  },
  {
   "cell_type": "code",
   "execution_count": 11,
   "id": "romantic-border",
   "metadata": {},
   "outputs": [],
   "source": [
    "%run analysis_functions.ipynb"
   ]
  },
  {
   "cell_type": "code",
   "execution_count": 12,
   "id": "patent-pontiac",
   "metadata": {},
   "outputs": [],
   "source": [
    "df, arguments = read_clean_data()\n",
    "sheet_id = arguments[\"sheet_id\"]\n",
    "url = f\"https://docs.google.com/spreadsheets/d/{sheet_id}\""
   ]
  },
  {
   "cell_type": "markdown",
   "id": "pending-vacation",
   "metadata": {},
   "source": [
    "<hr style=\"height:2px;border-width:0;color:black;background-color:black\">"
   ]
  },
  {
   "cell_type": "markdown",
   "id": "arranged-trader",
   "metadata": {},
   "source": [
    "## Cervical mucus charting"
   ]
  },
  {
   "cell_type": "code",
   "execution_count": 3,
   "id": "spanish-opera",
   "metadata": {},
   "outputs": [],
   "source": [
    "chart = chart_cervical_mucus(\n",
    "    df,\n",
    "    with_text=False,\n",
    "    outfile=\"charting\",\n",
    ")"
   ]
  },
  {
   "cell_type": "markdown",
   "id": "chief-decline",
   "metadata": {},
   "source": [
    "### ![](charting.png)"
   ]
  },
  {
   "cell_type": "code",
   "execution_count": 4,
   "id": "trying-bangkok",
   "metadata": {},
   "outputs": [],
   "source": [
    "chart = chart_cervical_mucus(\n",
    "    df,\n",
    "    with_text=True,\n",
    "    outfile=\"charting_with_text\",\n",
    ")"
   ]
  },
  {
   "cell_type": "markdown",
   "id": "knowing-texas",
   "metadata": {},
   "source": [
    "### ![](charting_with_text.png)"
   ]
  },
  {
   "cell_type": "markdown",
   "id": "dangerous-sense",
   "metadata": {},
   "source": [
    "<hr style=\"height:2px;border-width:0;color:black;background-color:black\">"
   ]
  },
  {
   "cell_type": "markdown",
   "id": "universal-necessity",
   "metadata": {},
   "source": [
    "## Symptoms snapshot"
   ]
  },
  {
   "cell_type": "code",
   "execution_count": 5,
   "id": "muslim-working",
   "metadata": {},
   "outputs": [],
   "source": [
    "numeric_metrics = [\n",
    "#     \"pelvic pain\",\n",
    "#     \"stomach pain\",\n",
    "    \"BMs\",\n",
    "    \"previous night Oura score\",\n",
    "    \"steps\",\n",
    "]\n",
    "\n",
    "categorical_metrics = [\n",
    "    \"pelvic pain\",\n",
    "    \"stomach pain\",\n",
    "    \"fatigue\",\n",
    "    \"headache\",\n",
    "    \"uncomfortable stomach\",\n",
    "    \"visibly bloated stomach\",\n",
    "    \"diarrhea\",\n",
    "    \"nauseous\",\n",
    "    \"white clouds in urine\",\n",
    "]"
   ]
  },
  {
   "cell_type": "markdown",
   "id": "official-summary",
   "metadata": {},
   "source": [
    "#### Last month"
   ]
  },
  {
   "cell_type": "code",
   "execution_count": 6,
   "id": "stopped-thumbnail",
   "metadata": {},
   "outputs": [
    {
     "name": "stdout",
     "output_type": "stream",
     "text": [
      "12/27/23 - 01/25/24\n",
      "\n",
      "93% of days had visibly bloated stomach.\n",
      "93% of days had fatigue.\n",
      "87% of days had stomach pain at least 3 / 10.\n",
      "83% of days had pelvic pain at least 3 / 10.\n",
      "70% of days had headache.\n",
      "50% of days had white clouds in urine.\n",
      "37% of days had nausea.\n",
      "33% of days had uncomfortable stomach.\n",
      "17% of days had diarrhea.\n",
      "\n",
      "3 BMs / day\n",
      "83 / 100 sleep score\n",
      "9,809 steps / day\n",
      "\n"
     ]
    }
   ],
   "source": [
    "# last N days, excluding most recent, incomplete day\n",
    "last_n_days = 30\n",
    "start_dt = df[- last_n_days - 1: -1].index.min()\n",
    "end_dt = df[- last_n_days - 1: -1].index.max()\n",
    "min_pain = 3\n",
    "\n",
    "summary = generate_summary(\n",
    "    df,\n",
    "    start_dt,\n",
    "    end_dt,\n",
    "    categorical_metrics,\n",
    "    numeric_metrics,\n",
    "    min_pain=min_pain,\n",
    ")\n",
    "print(summary)"
   ]
  },
  {
   "cell_type": "code",
   "execution_count": 7,
   "id": "white-sleep",
   "metadata": {},
   "outputs": [],
   "source": [
    "# Right before second surgery\n",
    "start_dt = datetime.datetime(2023, 9, 1)\n",
    "end_dt = datetime.datetime(2023, 9, 26)"
   ]
  },
  {
   "cell_type": "markdown",
   "id": "accomplished-miracle",
   "metadata": {},
   "source": [
    "<hr style=\"height:2px;border-width:0;color:black;background-color:black\">"
   ]
  },
  {
   "cell_type": "markdown",
   "id": "senior-trial",
   "metadata": {},
   "source": [
    "## Medications"
   ]
  },
  {
   "cell_type": "markdown",
   "id": "interesting-worth",
   "metadata": {},
   "source": [
    "#### Yesterday"
   ]
  },
  {
   "cell_type": "code",
   "execution_count": 13,
   "id": "nearby-generation",
   "metadata": {},
   "outputs": [
    {
     "name": "stdout",
     "output_type": "stream",
     "text": [
      "01/31/24\n",
      "\n",
      "40 mg Omeprazole / day\n",
      "15 mg CBD / day\n",
      "15 mg THC / day\n",
      "50 mg Pycnogenol / day\n",
      "25 mg DHEA / day\n",
      "1000 mg fish oil / day\n",
      "250 mg Vitamin B / day\n",
      "1000 mcg Vitamin B / day\n",
      "2000 IU Vitamin D / day\n",
      "\n"
     ]
    }
   ],
   "source": [
    "# second to last day, since today likely isn't over yet\n",
    "end_dt = df.index[-2]\n",
    "n_days = 1\n",
    "\n",
    "summary = generate_med_summary(\n",
    "    df,\n",
    "    end_dt,\n",
    "    n_days,\n",
    ")\n",
    "print(summary)"
   ]
  }
 ],
 "metadata": {
  "kernelspec": {
   "display_name": "Python 3",
   "language": "python",
   "name": "python3"
  },
  "language_info": {
   "codemirror_mode": {
    "name": "ipython",
    "version": 3
   },
   "file_extension": ".py",
   "mimetype": "text/x-python",
   "name": "python",
   "nbconvert_exporter": "python",
   "pygments_lexer": "ipython3",
   "version": "3.9.18"
  }
 },
 "nbformat": 4,
 "nbformat_minor": 5
}
