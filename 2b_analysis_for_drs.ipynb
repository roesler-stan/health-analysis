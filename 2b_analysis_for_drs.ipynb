{
 "cells": [
  {
   "cell_type": "markdown",
   "id": "analyzed-aquatic",
   "metadata": {},
   "source": [
    "# Health Analysis"
   ]
  },
  {
   "cell_type": "code",
   "execution_count": 1,
   "id": "lyric-waterproof",
   "metadata": {},
   "outputs": [],
   "source": [
    "%run analysis_functions.ipynb"
   ]
  },
  {
   "cell_type": "code",
   "execution_count": 2,
   "id": "multiple-encoding",
   "metadata": {},
   "outputs": [],
   "source": [
    "df, arguments = read_clean_data()\n",
    "sheet_id = arguments[\"sheet_id\"]\n",
    "url = f\"https://docs.google.com/spreadsheets/d/{sheet_id}\""
   ]
  },
  {
   "cell_type": "markdown",
   "id": "mediterranean-stock",
   "metadata": {},
   "source": [
    "<hr style=\"height:2px;border-width:0;color:black;background-color:black\">"
   ]
  },
  {
   "cell_type": "markdown",
   "id": "round-quarter",
   "metadata": {},
   "source": [
    "## Cervical mucus charting"
   ]
  },
  {
   "cell_type": "code",
   "execution_count": 3,
   "id": "political-cambodia",
   "metadata": {},
   "outputs": [],
   "source": [
    "chart = chart_cervical_mucus(\n",
    "    df,\n",
    "    with_text=False,\n",
    "    outfile=\"charting\",\n",
    ")"
   ]
  },
  {
   "cell_type": "markdown",
   "id": "aggregate-ocean",
   "metadata": {},
   "source": [
    "### ![](charting.png)"
   ]
  },
  {
   "cell_type": "code",
   "execution_count": 4,
   "id": "homeless-dryer",
   "metadata": {},
   "outputs": [],
   "source": [
    "chart = chart_cervical_mucus(\n",
    "    df,\n",
    "    with_text=True,\n",
    "    outfile=\"charting_with_text\",\n",
    ")"
   ]
  },
  {
   "cell_type": "markdown",
   "id": "secondary-liability",
   "metadata": {},
   "source": [
    "### ![](charting_with_text.png)"
   ]
  },
  {
   "cell_type": "markdown",
   "id": "regular-benefit",
   "metadata": {},
   "source": [
    "<hr style=\"height:2px;border-width:0;color:black;background-color:black\">"
   ]
  },
  {
   "cell_type": "markdown",
   "id": "vietnamese-outside",
   "metadata": {},
   "source": [
    "## Symptoms snapshot"
   ]
  },
  {
   "cell_type": "code",
   "execution_count": 5,
   "id": "exact-pilot",
   "metadata": {},
   "outputs": [],
   "source": [
    "numeric_metrics = [\n",
    "#     \"pelvic pain\",\n",
    "#     \"stomach pain\",\n",
    "    \"BMs\",\n",
    "    \"previous night Oura score\",\n",
    "    \"steps\",\n",
    "]\n",
    "\n",
    "categorical_metrics = [\n",
    "    \"pelvic pain\",\n",
    "    \"stomach pain\",\n",
    "    \"fatigue\",\n",
    "    \"headache\",\n",
    "    \"uncomfortable stomach\",\n",
    "    \"visibly bloated stomach\",\n",
    "    \"diarrhea\",\n",
    "    \"nauseous\",\n",
    "    \"white clouds in urine\",\n",
    "]"
   ]
  },
  {
   "cell_type": "markdown",
   "id": "organized-healthcare",
   "metadata": {},
   "source": [
    "#### Last month"
   ]
  },
  {
   "cell_type": "code",
   "execution_count": 6,
   "id": "vertical-austin",
   "metadata": {},
   "outputs": [
    {
     "name": "stdout",
     "output_type": "stream",
     "text": [
      "12/27/23 - 01/25/24\n",
      "\n",
      "93% of days had visibly bloated stomach.\n",
      "93% of days had fatigue.\n",
      "87% of days had stomach pain at least 3 / 10.\n",
      "83% of days had pelvic pain at least 3 / 10.\n",
      "70% of days had headache.\n",
      "50% of days had white clouds in urine.\n",
      "37% of days had nausea.\n",
      "33% of days had uncomfortable stomach.\n",
      "17% of days had diarrhea.\n",
      "\n",
      "3 BMs / day\n",
      "83 / 100 sleep score\n",
      "9,809 steps / day\n",
      "\n"
     ]
    }
   ],
   "source": [
    "# last N days, excluding most recent, incomplete day\n",
    "last_n_days = 30\n",
    "start_dt = df[- last_n_days - 1: -1].index.min()\n",
    "end_dt = df[- last_n_days - 1: -1].index.max()\n",
    "min_pain = 3\n",
    "\n",
    "summary = generate_summary(\n",
    "    df,\n",
    "    start_dt,\n",
    "    end_dt,\n",
    "    categorical_metrics,\n",
    "    numeric_metrics,\n",
    "    min_pain=min_pain,\n",
    ")\n",
    "print(summary)"
   ]
  },
  {
   "cell_type": "code",
   "execution_count": 7,
   "id": "advanced-maldives",
   "metadata": {},
   "outputs": [],
   "source": [
    "# Right before second surgery\n",
    "start_dt = datetime.datetime(2023, 9, 1)\n",
    "end_dt = datetime.datetime(2023, 9, 26)"
   ]
  },
  {
   "cell_type": "markdown",
   "id": "minus-traffic",
   "metadata": {},
   "source": [
    "<hr style=\"height:2px;border-width:0;color:black;background-color:black\">"
   ]
  },
  {
   "cell_type": "markdown",
   "id": "outdoor-martin",
   "metadata": {},
   "source": [
    "## Medications"
   ]
  },
  {
   "cell_type": "markdown",
   "id": "ruled-livestock",
   "metadata": {},
   "source": [
    "#### Today"
   ]
  },
  {
   "cell_type": "code",
   "execution_count": 8,
   "id": "bottom-strand",
   "metadata": {},
   "outputs": [
    {
     "name": "stdout",
     "output_type": "stream",
     "text": [
      "01/25/24\n",
      "\n",
      "11 mg CBD / day\n",
      "11 mg THC / day\n",
      "40 mg Omeprazole / day\n",
      "250 mg Vitamin B / day\n",
      "25 mg DHEA / day\n",
      "50 mg Pycnogenol / day\n",
      "1000 mg fish oil / day\n",
      "1 ml THC / day\n",
      "1 ml THC/CBD / day\n",
      "1000 mcg Vitamin B / day\n",
      "2000 IU Vitamin D / day\n",
      "\n"
     ]
    }
   ],
   "source": [
    "# second to last day, since today likely isn't over yet\n",
    "end_dt = df.index[-2]\n",
    "n_days = 1\n",
    "\n",
    "summary = generate_med_summary(\n",
    "    df,\n",
    "    end_dt,\n",
    "    n_days,\n",
    ")\n",
    "print(summary)"
   ]
  },
  {
   "cell_type": "markdown",
   "id": "coastal-enterprise",
   "metadata": {},
   "source": [
    "<hr style=\"height:2px;border-width:0;color:black;background-color:black\">"
   ]
  },
  {
   "cell_type": "markdown",
   "id": "challenging-express",
   "metadata": {},
   "source": [
    "### Check side effects from medication"
   ]
  },
  {
   "cell_type": "code",
   "execution_count": 10,
   "id": "acting-mother",
   "metadata": {},
   "outputs": [
    {
     "data": {
      "image/png": "[encoded data removed]",
      "text/plain": [
       "<Figure size 864x576 with 1 Axes>"
      ]
     },
     "metadata": {},
     "output_type": "display_data"
    }
   ],
   "source": [
    "df[\"nauseous_bin\"] = df[\"nauseous\"].astype(str).map(clean_categorical)\n",
    "\n",
    "metric = \"nauseous_bin\"\n",
    "n_days = 28\n",
    "\n",
    "fig, ax = plt.subplots(figsize=(12, 8), facecolor=\"w\")\n",
    "plt.plot(\n",
    "    df.index,\n",
    "    df[metric].rolling(n_days).mean() * 100,\n",
    ")\n",
    "\n",
    "plt.xlabel(\"Date\", size=12)\n",
    "plt.ylabel(f\"% days with {metric}, {n_days}-day rolling\", size=12)\n",
    "plt.title(metric, size=14)\n",
    "fig.autofmt_xdate()"
   ]
  },
  {
   "cell_type": "code",
   "execution_count": 11,
   "id": "occupational-distinction",
   "metadata": {},
   "outputs": [
    {
     "data": {
      "image/png": "[encoded data removed]",
      "text/plain": [
       "<Figure size 864x576 with 1 Axes>"
      ]
     },
     "metadata": {},
     "output_type": "display_data"
    }
   ],
   "source": [
    "cols = [\"Omeprazole mg\", \"Esomeprazole mg\"]\n",
    "n_days = 7\n",
    "\n",
    "fig, ax = plt.subplots(figsize=(12, 8), facecolor=\"w\")\n",
    "for col in cols:\n",
    "    plt.plot(\n",
    "        df.index,\n",
    "        df[col].rolling(n_days).mean(),\n",
    "        label=col,\n",
    "    )\n",
    "\n",
    "plt.xlabel(\"Date\", size=12)\n",
    "plt.ylabel(f\"Medications, {n_days}-day rolling mean\", size=12)\n",
    "plt.title(\"Medications\", size=14)\n",
    "plt.legend(title=\"Medication\")\n",
    "fig.autofmt_xdate()"
   ]
  },
  {
   "cell_type": "code",
   "execution_count": 12,
   "id": "interior-institution",
   "metadata": {},
   "outputs": [
    {
     "data": {
      "text/plain": [
       "DatetimeIndex(['2024-01-14', '2024-01-15', '2024-01-16', '2024-01-17',\n",
       "               '2024-01-18', '2024-01-19', '2024-01-20', '2024-01-21',\n",
       "               '2024-01-22', '2024-01-23', '2024-01-24', '2024-01-25',\n",
       "               '2024-01-26'],\n",
       "              dtype='datetime64[ns]', name='date clean', freq=None)"
      ]
     },
     "execution_count": 12,
     "metadata": {},
     "output_type": "execute_result"
    }
   ],
   "source": [
    "df.loc[df[\"Omeprazole mg\"] == 40].index"
   ]
  },
  {
   "cell_type": "code",
   "execution_count": 13,
   "id": "hispanic-reduction",
   "metadata": {},
   "outputs": [],
   "source": [
    "categorical_metrics = [\"nauseous\"]"
   ]
  },
  {
   "cell_type": "code",
   "execution_count": 14,
   "id": "wired-analysis",
   "metadata": {},
   "outputs": [
    {
     "name": "stdout",
     "output_type": "stream",
     "text": [
      "11/01/23 - 12/31/23\n",
      "\n",
      "23% of days had nausea.\n",
      "\n",
      "\n"
     ]
    }
   ],
   "source": [
    "# after surgery, before taking a lot of Omeprazole\n",
    "start_dt = datetime.datetime(2023, 11, 1)\n",
    "end_dt = datetime.datetime(2023, 12, 31)\n",
    "\n",
    "summary = generate_summary(\n",
    "    df,\n",
    "    start_dt,\n",
    "    end_dt,\n",
    "    categorical_metrics,\n",
    ")\n",
    "print(summary)"
   ]
  },
  {
   "cell_type": "code",
   "execution_count": 15,
   "id": "radio-point",
   "metadata": {},
   "outputs": [
    {
     "name": "stdout",
     "output_type": "stream",
     "text": [
      "01/01/24 - 01/13/24\n",
      "\n",
      "31% of days had nausea.\n",
      "\n",
      "\n"
     ]
    }
   ],
   "source": [
    "# directly before increasing Omeprazole\n",
    "start_dt = datetime.datetime(2024, 1, 1)\n",
    "end_dt = datetime.datetime(2024, 1, 13)\n",
    "\n",
    "summary = generate_summary(\n",
    "    df,\n",
    "    start_dt,\n",
    "    end_dt,\n",
    "    categorical_metrics,\n",
    ")\n",
    "print(summary)"
   ]
  },
  {
   "cell_type": "code",
   "execution_count": 16,
   "id": "moved-devil",
   "metadata": {},
   "outputs": [
    {
     "name": "stdout",
     "output_type": "stream",
     "text": [
      "01/14/24 - 01/25/24\n",
      "\n",
      "42% of days had nausea.\n",
      "\n",
      "\n"
     ]
    }
   ],
   "source": [
    "# after taking Omeprazole\n",
    "start_dt = datetime.datetime(2024, 1, 14)\n",
    "end_dt = datetime.datetime(2024, 1, 25)\n",
    "\n",
    "summary = generate_summary(\n",
    "    df,\n",
    "    start_dt,\n",
    "    end_dt,\n",
    "    categorical_metrics,\n",
    ")\n",
    "print(summary)"
   ]
  }
 ],
 "metadata": {
  "kernelspec": {
   "display_name": "Python 3",
   "language": "python",
   "name": "python3"
  },
  "language_info": {
   "codemirror_mode": {
    "name": "ipython",
    "version": 3
   },
   "file_extension": ".py",
   "mimetype": "text/x-python",
   "name": "python",
   "nbconvert_exporter": "python",
   "pygments_lexer": "ipython3",
   "version": "3.9.18"
  }
 },
 "nbformat": 4,
 "nbformat_minor": 5
}
