{
 "cells": [
  {
   "cell_type": "markdown",
   "id": "passive-gregory",
   "metadata": {},
   "source": [
    "# Health Analysis"
   ]
  },
  {
   "cell_type": "code",
   "execution_count": 1,
   "id": "complete-monitoring",
   "metadata": {},
   "outputs": [],
   "source": [
    "%run analysis_functions.ipynb"
   ]
  },
  {
   "cell_type": "code",
   "execution_count": 2,
   "id": "durable-twelve",
   "metadata": {},
   "outputs": [],
   "source": [
    "df, arguments = read_clean_data()\n",
    "sheet_id = arguments[\"sheet_id\"]\n",
    "url = f\"https://docs.google.com/spreadsheets/d/{sheet_id}\""
   ]
  },
  {
   "cell_type": "markdown",
   "id": "surface-illustration",
   "metadata": {},
   "source": [
    "<hr style=\"height:2px;border-width:0;color:black;background-color:black\">"
   ]
  },
  {
   "cell_type": "markdown",
   "id": "entitled-chest",
   "metadata": {},
   "source": [
    "## Cervical mucus charting"
   ]
  },
  {
   "cell_type": "code",
   "execution_count": null,
   "id": "great-induction",
   "metadata": {},
   "outputs": [],
   "source": [
    "chart = chart_cervical_mucus(\n",
    "    df,\n",
    "    with_text=False,\n",
    "    outfile=\"charting\",\n",
    ")"
   ]
  },
  {
   "cell_type": "markdown",
   "id": "united-stylus",
   "metadata": {},
   "source": [
    "### ![](charting.png)"
   ]
  },
  {
   "cell_type": "code",
   "execution_count": null,
   "id": "laden-consumer",
   "metadata": {},
   "outputs": [],
   "source": [
    "chart = chart_cervical_mucus(\n",
    "    df,\n",
    "    with_text=True,\n",
    "    outfile=\"charting_with_text\",\n",
    ")"
   ]
  },
  {
   "cell_type": "markdown",
   "id": "medical-hartford",
   "metadata": {},
   "source": [
    "### ![](charting_with_text.png)"
   ]
  },
  {
   "cell_type": "markdown",
   "id": "corresponding-cigarette",
   "metadata": {},
   "source": [
    "<hr style=\"height:2px;border-width:0;color:black;background-color:black\">"
   ]
  },
  {
   "cell_type": "markdown",
   "id": "indirect-reward",
   "metadata": {},
   "source": [
    "## Symptoms snapshot"
   ]
  },
  {
   "cell_type": "code",
   "execution_count": null,
   "id": "permanent-tampa",
   "metadata": {},
   "outputs": [],
   "source": [
    "numeric_metrics = [\n",
    "#     \"pelvic pain\",\n",
    "#     \"stomach pain\",\n",
    "    \"BMs\",\n",
    "    \"previous night Oura score\",\n",
    "    \"steps\",\n",
    "]\n",
    "\n",
    "categorical_metrics = [\n",
    "    \"pelvic pain numeric\",\n",
    "    \"stomach pain numeric\",\n",
    "    \"fatigue\",\n",
    "    \"headache\",\n",
    "    \"bloated stomach\",\n",
    "    \"diarrhea\",\n",
    "    \"nauseous\",\n",
    "    \"white clouds in urine\",\n",
    "]"
   ]
  },
  {
   "cell_type": "markdown",
   "id": "romantic-glucose",
   "metadata": {},
   "source": [
    "#### Last week"
   ]
  },
  {
   "cell_type": "code",
   "execution_count": null,
   "id": "independent-modification",
   "metadata": {},
   "outputs": [],
   "source": [
    "# last N days, excluding most recent, incomplete day\n",
    "last_n_days = 28\n",
    "start_dt = df[- last_n_days - 1: -1].index.min()\n",
    "end_dt = df[- last_n_days - 1: -1].index.max()\n",
    "min_pain = 3\n",
    "\n",
    "summary = generate_summary(\n",
    "    df,\n",
    "    start_dt,\n",
    "    end_dt,\n",
    "    categorical_metrics,\n",
    "    numeric_metrics,\n",
    "    min_pain=min_pain,\n",
    ")\n",
    "print(summary)"
   ]
  },
  {
   "cell_type": "markdown",
   "id": "authentic-found",
   "metadata": {},
   "source": [
    "#### Right before second surgery"
   ]
  },
  {
   "cell_type": "code",
   "execution_count": null,
   "id": "vertical-powder",
   "metadata": {},
   "outputs": [],
   "source": [
    "start_dt = datetime.datetime(2023, 9, 1)\n",
    "end_dt = datetime.datetime(2023, 9, 26)\n",
    "min_pain = 3\n",
    "\n",
    "summary = generate_summary(\n",
    "    df,\n",
    "    start_dt,\n",
    "    end_dt,\n",
    "    categorical_metrics,\n",
    "    numeric_metrics,\n",
    "    min_pain=min_pain,\n",
    ")\n",
    "print(summary)"
   ]
  },
  {
   "cell_type": "markdown",
   "id": "handed-architect",
   "metadata": {},
   "source": [
    "<hr style=\"height:2px;border-width:0;color:black;background-color:black\">"
   ]
  },
  {
   "cell_type": "markdown",
   "id": "committed-sponsorship",
   "metadata": {},
   "source": [
    "## Medications"
   ]
  },
  {
   "cell_type": "markdown",
   "id": "fuzzy-startup",
   "metadata": {},
   "source": [
    "#### Today"
   ]
  },
  {
   "cell_type": "code",
   "execution_count": null,
   "id": "enhanced-berlin",
   "metadata": {},
   "outputs": [],
   "source": [
    "# second to last day, since today likely isn't over yet\n",
    "end_dt = df.index[-2]\n",
    "n_days = 1\n",
    "\n",
    "summary = generate_med_summary(\n",
    "    df,\n",
    "    end_dt,\n",
    "    n_days,\n",
    ")\n",
    "print(summary)"
   ]
  }
 ],
 "metadata": {
  "kernelspec": {
   "display_name": "Python 3",
   "language": "python",
   "name": "python3"
  },
  "language_info": {
   "codemirror_mode": {
    "name": "ipython",
    "version": 3
   },
   "file_extension": ".py",
   "mimetype": "text/x-python",
   "name": "python",
   "nbconvert_exporter": "python",
   "pygments_lexer": "ipython3",
   "version": "3.9.18"
  }
 },
 "nbformat": 4,
 "nbformat_minor": 5
}
