{
 "cells": [
  {
   "cell_type": "markdown",
   "id": "agreed-negative",
   "metadata": {},
   "source": [
    "# Health Analysis"
   ]
  },
  {
   "cell_type": "code",
   "execution_count": 1,
   "id": "quiet-freeze",
   "metadata": {},
   "outputs": [],
   "source": [
    "%run analysis_functions.ipynb"
   ]
  },
  {
   "cell_type": "code",
   "execution_count": 2,
   "id": "jewish-breast",
   "metadata": {},
   "outputs": [],
   "source": [
    "df, arguments = read_clean_data()\n",
    "sheet_id = arguments[\"sheet_id\"]\n",
    "url = f\"https://docs.google.com/spreadsheets/d/{sheet_id}\""
   ]
  },
  {
   "cell_type": "markdown",
   "id": "contrary-hollywood",
   "metadata": {},
   "source": [
    "<hr style=\"height:2px;border-width:0;color:black;background-color:black\">"
   ]
  },
  {
   "cell_type": "markdown",
   "id": "exterior-heating",
   "metadata": {},
   "source": [
    "## Cervical mucus charting"
   ]
  },
  {
   "cell_type": "code",
   "execution_count": 3,
   "id": "short-dakota",
   "metadata": {},
   "outputs": [],
   "source": [
    "chart = chart_cervical_mucus(\n",
    "    df,\n",
    "    with_text=False,\n",
    "    outfile=\"charting\",\n",
    ")"
   ]
  },
  {
   "cell_type": "markdown",
   "id": "subtle-british",
   "metadata": {},
   "source": [
    "### ![](charting.png)"
   ]
  },
  {
   "cell_type": "code",
   "execution_count": null,
   "id": "classical-scratch",
   "metadata": {},
   "outputs": [],
   "source": [
    "chart = chart_cervical_mucus(\n",
    "    df,\n",
    "    with_text=True,\n",
    "    outfile=\"charting_with_text\",\n",
    ")"
   ]
  },
  {
   "cell_type": "markdown",
   "id": "peaceful-vampire",
   "metadata": {},
   "source": [
    "### ![](charting_with_text.png)"
   ]
  },
  {
   "cell_type": "markdown",
   "id": "unsigned-synthesis",
   "metadata": {},
   "source": [
    "<hr style=\"height:2px;border-width:0;color:black;background-color:black\">"
   ]
  },
  {
   "cell_type": "markdown",
   "id": "governmental-booth",
   "metadata": {},
   "source": [
    "## Symptoms snapshot"
   ]
  },
  {
   "cell_type": "code",
   "execution_count": 7,
   "id": "surprising-cherry",
   "metadata": {},
   "outputs": [],
   "source": [
    "numeric_metrics = [\n",
    "#     \"pelvic pain\",\n",
    "#     \"stomach pain\",\n",
    "    \"BMs\",\n",
    "    \"previous night Oura score\",\n",
    "    \"steps\",\n",
    "]\n",
    "\n",
    "categorical_metrics = [\n",
    "    \"pelvic pain\",\n",
    "    \"stomach pain\",\n",
    "    \"fatigue\",\n",
    "    \"headache\",\n",
    "    \"bloated stomach\",\n",
    "    \"diarrhea\",\n",
    "    \"nauseous\",\n",
    "    \"white clouds in urine\",\n",
    "]"
   ]
  },
  {
   "cell_type": "markdown",
   "id": "cordless-continent",
   "metadata": {},
   "source": [
    "#### Last week"
   ]
  },
  {
   "cell_type": "code",
   "execution_count": 8,
   "id": "sunrise-framing",
   "metadata": {},
   "outputs": [
    {
     "name": "stdout",
     "output_type": "stream",
     "text": [
      "12/16/23 - 01/12/24\n",
      "\n",
      "93% of days had fatigue.\n",
      "86% of days had pelvic pain at least 3 / 10.\n",
      "75% of days had stomach pain at least 3 / 10.\n",
      "75% of days had headache.\n",
      "71% of days had bloated stomach.\n",
      "39% of days had white clouds in urine.\n",
      "32% of days had nausea.\n",
      "14% of days had diarrhea.\n",
      "\n",
      "3 BMs / day\n",
      "82 / 100 sleep score\n",
      "8,789 steps / day\n",
      "\n"
     ]
    }
   ],
   "source": [
    "# last N days, excluding most recent, incomplete day\n",
    "last_n_days = 28\n",
    "start_dt = df[- last_n_days - 1: -1].index.min()\n",
    "end_dt = df[- last_n_days - 1: -1].index.max()\n",
    "min_pain = 3\n",
    "\n",
    "summary = generate_summary(\n",
    "    df,\n",
    "    start_dt,\n",
    "    end_dt,\n",
    "    categorical_metrics,\n",
    "    numeric_metrics,\n",
    "    min_pain=min_pain,\n",
    ")\n",
    "print(summary)"
   ]
  },
  {
   "cell_type": "markdown",
   "id": "regulated-enclosure",
   "metadata": {},
   "source": [
    "#### Right before second surgery"
   ]
  },
  {
   "cell_type": "code",
   "execution_count": 9,
   "id": "through-moment",
   "metadata": {},
   "outputs": [
    {
     "name": "stdout",
     "output_type": "stream",
     "text": [
      "09/01/23 - 09/26/23\n",
      "\n",
      "96% of days had stomach pain at least 3 / 10.\n",
      "96% of days had pelvic pain at least 3 / 10.\n",
      "96% of days had fatigue.\n",
      "92% of days had headache.\n",
      "44% of days had white clouds in urine.\n",
      "44% of days had nausea.\n",
      "32% of days had bloated stomach.\n",
      "12% of days had diarrhea.\n",
      "\n",
      "2 BMs / day\n",
      "76 / 100 sleep score\n",
      "9,094 steps / day\n",
      "\n"
     ]
    }
   ],
   "source": [
    "start_dt = datetime.datetime(2023, 9, 1)\n",
    "end_dt = datetime.datetime(2023, 9, 26)\n",
    "min_pain = 3\n",
    "\n",
    "summary = generate_summary(\n",
    "    df,\n",
    "    start_dt,\n",
    "    end_dt,\n",
    "    categorical_metrics,\n",
    "    numeric_metrics,\n",
    "    min_pain=min_pain,\n",
    ")\n",
    "print(summary)"
   ]
  },
  {
   "cell_type": "markdown",
   "id": "charitable-barrier",
   "metadata": {},
   "source": [
    "<hr style=\"height:2px;border-width:0;color:black;background-color:black\">"
   ]
  },
  {
   "cell_type": "markdown",
   "id": "unlikely-yield",
   "metadata": {},
   "source": [
    "## Medications"
   ]
  },
  {
   "cell_type": "markdown",
   "id": "existing-huntington",
   "metadata": {},
   "source": [
    "#### Today"
   ]
  },
  {
   "cell_type": "code",
   "execution_count": 10,
   "id": "studied-inflation",
   "metadata": {},
   "outputs": [
    {
     "name": "stdout",
     "output_type": "stream",
     "text": [
      "01/12/24\n",
      "\n",
      "8 mg THC / day\n",
      "8 mg CBD / day\n",
      "1000 mg fish oil / day\n",
      "50 mg Pycnogenol / day\n",
      "25 mg Nexium / day\n",
      "2000 IU Vitamin D3 / day\n",
      "25 mg DHEA / day\n",
      "1000 mcg Vitamin B12 / day\n",
      "250 mg Vitamin B6 / day\n",
      "\n"
     ]
    }
   ],
   "source": [
    "# second to last day, since today likely isn't over yet\n",
    "end_dt = df.index[-2]\n",
    "n_days = 1\n",
    "\n",
    "summary = generate_med_summary(\n",
    "    df,\n",
    "    end_dt,\n",
    "    n_days,\n",
    ")\n",
    "print(summary)"
   ]
  }
 ],
 "metadata": {
  "kernelspec": {
   "display_name": "Python 3",
   "language": "python",
   "name": "python3"
  },
  "language_info": {
   "codemirror_mode": {
    "name": "ipython",
    "version": 3
   },
   "file_extension": ".py",
   "mimetype": "text/x-python",
   "name": "python",
   "nbconvert_exporter": "python",
   "pygments_lexer": "ipython3",
   "version": "3.9.18"
  }
 },
 "nbformat": 4,
 "nbformat_minor": 5
}
