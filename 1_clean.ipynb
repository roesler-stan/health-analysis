{
 "cells": [
  {
   "cell_type": "code",
   "execution_count": 36,
   "id": "precise-beach",
   "metadata": {},
   "outputs": [],
   "source": [
    "%run constants.ipynb\n",
    "%run read_sheet.ipynb"
   ]
  },
  {
   "cell_type": "code",
   "execution_count": 18,
   "id": "lovely-buyer",
   "metadata": {},
   "outputs": [],
   "source": [
    "# Load the arguments\n",
    "with open(ARGUMENTS_FILENAME, \"r\") as fid:\n",
    "    arguments = json.load(fid)"
   ]
  },
  {
   "cell_type": "code",
   "execution_count": 21,
   "id": "anonymous-leone",
   "metadata": {},
   "outputs": [],
   "source": [
    "df = read_sheet(arguments[\"sheet_id\"], col_range=\"A:ZZ\")"
   ]
  },
  {
   "cell_type": "markdown",
   "id": "streaming-problem",
   "metadata": {},
   "source": [
    "### Pivot, clean up dates"
   ]
  },
  {
   "cell_type": "code",
   "execution_count": 22,
   "id": "danish-leonard",
   "metadata": {},
   "outputs": [],
   "source": [
    "df.columns = [\"metric\"] + df.columns.tolist()[1:]\n",
    "df.set_index(\"metric\", inplace=True)\n",
    "df = df.T\n",
    "df.reset_index(inplace=True)\n",
    "df.columns = df.columns.tolist()\n",
    "df.rename(columns={\"index\": \"date\"}, inplace=True)"
   ]
  },
  {
   "cell_type": "code",
   "execution_count": 23,
   "id": "earlier-frame",
   "metadata": {},
   "outputs": [],
   "source": [
    "def _parse_date(date_str: str) -> datetime.datetime:\n",
    "    \"\"\"\n",
    "        Dates are formatted like 'Sun 11/2'.\n",
    "        If it's a date range like '11/2 - 11/4', it selects the latest date\n",
    "    \"\"\"\n",
    "\n",
    "    date_str = date_str.split(\" \")[-1]\n",
    "    # months and days are not zero padded\n",
    "    month = int(date_str.split(\"/\")[0])\n",
    "    day = int(date_str.split(\"/\")[1])\n",
    "    \n",
    "    # if no year present, assume 2023\n",
    "    if len(date_str.split(\"/\")) == 3:\n",
    "        # year would be '23' or '24'\n",
    "        year = 2000 + int(date_str.split(\"/\")[2])\n",
    "    else:\n",
    "        year = 2023\n",
    "        \n",
    "    return datetime.datetime(year, month, day)\n",
    "\n",
    "df[\"date clean\"] = df[\"date\"].map(_parse_date)\n",
    "df.set_index(\"date clean\", inplace=True)\n",
    "df.sort_index(inplace=True)"
   ]
  },
  {
   "cell_type": "markdown",
   "id": "exterior-electron",
   "metadata": {},
   "source": [
    "### Medication"
   ]
  },
  {
   "cell_type": "code",
   "execution_count": 26,
   "id": "gorgeous-orientation",
   "metadata": {},
   "outputs": [],
   "source": [
    "# remove headers and blank column names\n",
    "bad_cols = [\n",
    "    np.nan, \"MEDICATION\", \"SYMPTOMS\", \"MENSTRUAL\", np.nan, \"Daily in morning\",\n",
    "]\n",
    "\n",
    "bad_cols = [c for c in bad_cols if c in df.columns]\n",
    "df.drop(columns=bad_cols, axis=1, inplace=True)"
   ]
  },
  {
   "cell_type": "code",
   "execution_count": 27,
   "id": "super-navigator",
   "metadata": {},
   "outputs": [],
   "source": [
    "med_times = [c for c in df.columns if \":00\" in c]\n",
    "\n",
    "def get_daily_dosage(row, drug, unit):\n",
    "    \"\"\"\"\n",
    "        row: row of df\n",
    "        drug: string of drug name\n",
    "        unit: ml, mg\n",
    "        \n",
    "        \"500 Ibuprofen, 1000 mg Acetaminophen\" -> 1000\n",
    "    \"\"\"\n",
    "    total_dose = 0\n",
    "    for med_time in med_times:\n",
    "        observation = str(row[med_time])\n",
    "        mentions = re.findall(rf\"(\\d+\\.?\\d+) {unit} {drug}\", observation)\n",
    "        if mentions:\n",
    "            dose = float(mentions[0])\n",
    "            total_dose += dose\n",
    "    return total_dose\n",
    "\n",
    "\n",
    "def get_med_count(row: dict, value: str):\n",
    "    total = 0\n",
    "    for med_time in med_times:\n",
    "        observation = str(row[med_time])\n",
    "        if value in observation.lower():\n",
    "            total += 1\n",
    "    return total"
   ]
  },
  {
   "cell_type": "code",
   "execution_count": 28,
   "id": "medical-youth",
   "metadata": {},
   "outputs": [],
   "source": [
    "unit = \"mg\"\n",
    "mg_drugs = [\n",
    "    \"Acetaminophen\",\n",
    "    \"Ibuprofen\",\n",
    "    \"Duloxetine\",\n",
    "    \"Naproxen\",\n",
    "    \"THC\",\n",
    "    \"CBD\",  # ignore CBN and CBG for now\n",
    "]\n",
    "for drug in mg_drugs:\n",
    "    df[f\"{drug} {unit}\"] = df.apply(get_daily_dosage, axis=1, args=(drug, unit))\n",
    "\n",
    "\n",
    "unit = \"ml\"\n",
    "ml_drugs = [\n",
    "    \"THC/CBD\",\n",
    "    \"CBD oil\",\n",
    "]\n",
    "for drug in ml_drugs:\n",
    "    df[f\"{drug} {unit}\"] = df.apply(get_daily_dosage, axis=1, args=(drug, unit))\n",
    "\n",
    "\n",
    "df[\"protab_pills\"] = df.apply(get_med_count, axis=1, args=(\"protab\",))\n",
    "\n",
    "    \n",
    "# Calculate mg metrics\n",
    "# Assume 0.25 ml of 1:1 THC/CBD is equivalent to 3.75 mg THC and 3.75 mg CBD\n",
    "df[\"THC mg\"] = df[\"THC mg\"] + ((3.75 / 0.25) * df[\"THC/CBD ml\"])\n",
    "df[\"THC mg\"] = df[\"THC mg\"] + (2 * df[\"protab_pills\"])\n",
    "df[\"CBD mg\"] = df[\"CBD mg\"] + ((3.75 / 0.25) * df[\"THC/CBD ml\"])\n",
    "df[\"CBD mg\"] += ((3.75 / 0.25) * df[\"CBD oil ml\"])"
   ]
  },
  {
   "cell_type": "markdown",
   "id": "distinct-museum",
   "metadata": {},
   "source": [
    "#### Make numeric scores"
   ]
  },
  {
   "cell_type": "code",
   "execution_count": 29,
   "id": "popular-subdivision",
   "metadata": {},
   "outputs": [],
   "source": [
    "for pain_metric in [c for c in df.columns if \"pain\" in c]:\n",
    "    df[f\"{pain_metric} numeric\"] = pd.to_numeric(df[pain_metric], errors=\"coerce\")\n",
    "\n",
    "\n",
    "# Pain inferred from pain reported + meds\n",
    "df[\"pelvic_pain_inferred\"] = df[\"pelvic pain numeric\"]\n",
    "\n",
    "# Add a point for every 1500 mg Acetaminophen / day and every 4 mg THC\n",
    "df[\"pelvic_pain_inferred\"] += df[\"Acetaminophen mg\"] // 1500\n",
    "df[\"pelvic_pain_inferred\"] += df[\"THC mg\"] // 4"
   ]
  },
  {
   "cell_type": "code",
   "execution_count": 30,
   "id": "equipped-pound",
   "metadata": {},
   "outputs": [],
   "source": [
    "def quantify_headache(headache_str: str) -> int:\n",
    "    values = {\n",
    "        \"yes\": 1,\n",
    "        \"extreme\": 2,\n",
    "    }\n",
    "    return values.get(str(headache_str), 0)\n",
    "\n",
    "\n",
    "df[\"headache_numeric\"] = df[\"headache\"].map(quantify_headache)\n",
    "\n",
    "\n",
    "def quantify_fatigue(fatigue_str: str) -> int:\n",
    "    values = {\n",
    "        \"yes\": 1,\n",
    "        \"extreme\": 2,\n",
    "        \"ok\": 0,\n",
    "    }\n",
    "    return values.get(str(fatigue_str), 0)\n",
    "\n",
    "\n",
    "df[\"fatigue_numeric\"] = df[\"fatigue\"].map(quantify_fatigue)\n",
    "df[\"day of cycle\"] = pd.to_numeric(df[\"day of cycle\"])"
   ]
  },
  {
   "cell_type": "code",
   "execution_count": 31,
   "id": "recognized-edmonton",
   "metadata": {},
   "outputs": [],
   "source": [
    "# which cycle is this?\n",
    "first_days = df.loc[df[\"day of cycle\"] == 1].index.values\n",
    "\n",
    "def get_nth_cycle(row):\n",
    "    if np.isnan(row[\"day of cycle\"]):\n",
    "        return np.nan\n",
    "    previous_first_days = [\n",
    "        d for d in first_days\n",
    "        if d <= row[\"date clean\"]\n",
    "    ]\n",
    "    return len(previous_first_days)\n",
    "\n",
    "df[\"nth_cycle\"] = df.reset_index().apply(get_nth_cycle, axis=1).tolist()"
   ]
  },
  {
   "cell_type": "code",
   "execution_count": 32,
   "id": "logical-scholarship",
   "metadata": {},
   "outputs": [],
   "source": [
    "df[\"peak_day\"] = df[\"cycle event\"] == \"peak day\"\n",
    "df.loc[df[\"cycle event\"].isnull(), \"peak_day\"] = np.nan\n",
    "\n",
    "# the last day of the period is a day of bleeding followed by no bleeding\n",
    "bleeding_symbols = [\"L\", \"M\", \"H\", \"S\", \"B\"]\n",
    "\n",
    "df[\"symbol_tomorrow\"] = df[\"symbol\"].shift(-1)\n",
    "\n",
    "df[\"last_bleeding_day\"] = (\n",
    "    df[\"symbol\"].isin(bleeding_symbols) &\n",
    "    (~df[\"symbol_tomorrow\"].isin(bleeding_symbols)) &\n",
    "    (df[\"day of cycle\"] < 10)\n",
    "    # make sure we're not including random days of spotting in the middle of the cycle\n",
    ")\n",
    "\n",
    "# last cycle day is the day before the next nth_cycle, aka before day of cycle is 1\n",
    "df[\"day_of_cycle_tomorrow\"] = df[\"day of cycle\"].shift(-1)\n",
    "df[\"last_cycle_day\"] = (df[\"day_of_cycle_tomorrow\"] == 1)"
   ]
  },
  {
   "cell_type": "code",
   "execution_count": 33,
   "id": "optimum-digest",
   "metadata": {},
   "outputs": [],
   "source": [
    "# marker for whether we fully charted this cycle\n",
    "# this will exclude cycles where we omitted symbols\n",
    "# but doesn't exclude the last cycle, where we haven't reached the end yet\n",
    "\n",
    "subset = df[df[\"day of cycle\"].notnull()]\n",
    "subset[\"day of cycle\"] = subset[\"day of cycle\"].astype(int)\n",
    "subset.loc[subset[\"symbol\"] == \"\", \"symbol\"] = np.nan\n",
    "\n",
    "table = subset.pivot(\n",
    "    index=\"nth_cycle\",\n",
    "    columns=\"day of cycle\",\n",
    "    values=\"symbol\",\n",
    ")\n",
    "\n",
    "day_count = pd.DataFrame(subset[\"nth_cycle\"].value_counts())\n",
    "symbol_count = pd.DataFrame(table.notnull().sum(axis=1))\n",
    "\n",
    "merged = day_count.merge(\n",
    "    symbol_count,\n",
    "    left_index=True,\n",
    "    right_index=True,\n",
    ")\n",
    "merged.columns = [\"days_count\", \"symbols_count\"]\n",
    "valid_cycles = merged.loc[merged[\"symbols_count\"] == merged[\"days_count\"]].index.values\n",
    "\n",
    "# valid_cycles = table[table.notnull().sum(axis=1) > 0].index.values\n",
    "df[\"valid_cycle\"] = df[\"nth_cycle\"].isin(valid_cycles)"
   ]
  },
  {
   "cell_type": "code",
   "execution_count": 34,
   "id": "revolutionary-geometry",
   "metadata": {},
   "outputs": [],
   "source": [
    "df.to_csv(arguments[\"dataframe_outfile\"], index=True)"
   ]
  }
 ],
 "metadata": {
  "kernelspec": {
   "display_name": "Python 3",
   "language": "python",
   "name": "python3"
  },
  "language_info": {
   "codemirror_mode": {
    "name": "ipython",
    "version": 3
   },
   "file_extension": ".py",
   "mimetype": "text/x-python",
   "name": "python",
   "nbconvert_exporter": "python",
   "pygments_lexer": "ipython3",
   "version": "3.9.18"
  }
 },
 "nbformat": 4,
 "nbformat_minor": 5
}
