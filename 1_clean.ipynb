{
 "cells": [
  {
   "cell_type": "code",
   "execution_count": 1,
   "id": "framed-playback",
   "metadata": {},
   "outputs": [],
   "source": [
    "%run constants.ipynb\n",
    "%run read_sheet.ipynb"
   ]
  },
  {
   "cell_type": "code",
   "execution_count": 2,
   "id": "intellectual-services",
   "metadata": {},
   "outputs": [],
   "source": [
    "# Load the arguments\n",
    "# Change this if you want to run this notebook directly, rather than from the parent NB\n",
    "with open(ARGUMENTS_FILENAME, \"r\") as fid:\n",
    "    arguments = json.load(fid)"
   ]
  },
  {
   "cell_type": "code",
   "execution_count": 59,
   "id": "synthetic-trailer",
   "metadata": {},
   "outputs": [],
   "source": [
    "df = read_sheet(arguments[\"sheet_id\"], col_range=\"A:ZZ\")"
   ]
  },
  {
   "cell_type": "markdown",
   "id": "intelligent-jewelry",
   "metadata": {},
   "source": [
    "### Pivot, clean up dates"
   ]
  },
  {
   "cell_type": "code",
   "execution_count": 60,
   "id": "hundred-denver",
   "metadata": {},
   "outputs": [],
   "source": [
    "df.columns = [\"metric\"] + df.columns.tolist()[1:]\n",
    "df.set_index(\"metric\", inplace=True)\n",
    "df = df.T\n",
    "df.reset_index(inplace=True)\n",
    "df.columns = df.columns.tolist()\n",
    "df.rename(columns={\"index\": \"date\"}, inplace=True)\n",
    "\n",
    "df[\"date clean\"] = pd.to_datetime(df[\"date\"], errors=\"coerce\")\n",
    "df = df[df[\"date clean\"].notnull()]\n",
    "df.set_index(\"date clean\", inplace=True)\n",
    "df.sort_index(inplace=True)"
   ]
  },
  {
   "cell_type": "markdown",
   "id": "textile-people",
   "metadata": {},
   "source": [
    "### Medication"
   ]
  },
  {
   "cell_type": "code",
   "execution_count": 61,
   "id": "brave-engineer",
   "metadata": {},
   "outputs": [],
   "source": [
    "# remove headers and blank column names\n",
    "bad_cols = [\n",
    "    np.nan, \"MEDICATION\", \"OBSERVATIONS\", \"MENSTRUAL\", \"SLEEP\", \"COMMON\", np.nan,\n",
    "]\n",
    "\n",
    "bad_cols = [c for c in bad_cols if c in df.columns]\n",
    "df.drop(columns=bad_cols, axis=1, inplace=True)"
   ]
  },
  {
   "cell_type": "code",
   "execution_count": 62,
   "id": "curious-reunion",
   "metadata": {},
   "outputs": [],
   "source": [
    "med_times = [c for c in df.columns if \":00\" in c]\n",
    "\n",
    "def get_daily_dosage(row, drug, unit):\n",
    "    \"\"\"\"\n",
    "        row: row of df\n",
    "        drug: string of drug name\n",
    "        unit: ml, mg\n",
    "        \n",
    "        \"500 Ibuprofen, 1000 mg Acetaminophen\" -> 1000\n",
    "    \"\"\"\n",
    "    total_dose = 0\n",
    "    for med_time in med_times:\n",
    "        observation = str(row[med_time])\n",
    "        mentions = re.findall(rf\"(\\d+\\.?\\d+) ?{unit} {drug}\", observation)\n",
    "        if mentions:\n",
    "            dose = float(mentions[0])\n",
    "            total_dose += dose\n",
    "    return total_dose\n",
    "\n",
    "\n",
    "def get_med_count(row: dict, value: str):\n",
    "    total = 0\n",
    "    for med_time in med_times:\n",
    "        observation = str(row[med_time])\n",
    "        if value in observation.lower():\n",
    "            total += 1\n",
    "    return total"
   ]
  },
  {
   "cell_type": "code",
   "execution_count": 63,
   "id": "pediatric-plant",
   "metadata": {},
   "outputs": [],
   "source": [
    "unit = \"mg\"\n",
    "mg_drugs = [\n",
    "    \"Acetaminophen\",\n",
    "    \"Ibuprofen\",\n",
    "    \"Duloxetine\",\n",
    "    \"Naproxen\",\n",
    "    \"THC\",\n",
    "    \"CBD\",  # ignore CBN and CBG for now\n",
    "]\n",
    "for drug in mg_drugs:\n",
    "    df[f\"{drug} {unit}\"] = df.apply(get_daily_dosage, axis=1, args=(drug, unit))\n",
    "\n",
    "\n",
    "unit = \"ml\"\n",
    "ml_drugs = [\n",
    "    \"THC/CBD\",\n",
    "    \"CBD oil\",\n",
    "]\n",
    "for drug in ml_drugs:\n",
    "    df[f\"{drug} {unit}\"] = df.apply(get_daily_dosage, axis=1, args=(drug, unit))\n",
    "\n",
    "\n",
    "df[\"protab_pills\"] = df.apply(get_med_count, axis=1, args=(\"protab\",))\n",
    "\n",
    "    \n",
    "# Calculate mg metrics\n",
    "# Assume 0.25 ml of 1:1 THC/CBD is equivalent to 3.75 mg THC and 3.75 mg CBD\n",
    "df[\"THC mg\"] = df[\"THC mg\"] + ((3.75 / 0.25) * df[\"THC/CBD ml\"])\n",
    "df[\"THC mg\"] = df[\"THC mg\"] + (2 * df[\"protab_pills\"])\n",
    "df[\"CBD mg\"] = df[\"CBD mg\"] + ((3.75 / 0.25) * df[\"THC/CBD ml\"])\n",
    "df[\"CBD mg\"] += ((3.75 / 0.25) * df[\"CBD oil ml\"])"
   ]
  },
  {
   "cell_type": "code",
   "execution_count": 64,
   "id": "willing-theta",
   "metadata": {},
   "outputs": [],
   "source": [
    "units = [\"mg\", \"mcg\", \"IU\"]\n",
    "\n",
    "# Create boolean columns tracking daily meds/supplements\n",
    "potential_drugs = set()\n",
    "for drugs_str in df[\"Daily in morning\"].unique():\n",
    "    if str(drugs_str) in [\"\", \"nan\"]:\n",
    "        continue\n",
    "    drugs = drugs_str.split(\", \")\n",
    "    drugs = [drug.strip() for drug in drugs]\n",
    "    for unit in units:\n",
    "        drugs = [\n",
    "            drug.split(f\" {unit} \")[-1]\n",
    "            for drug in drugs\n",
    "        ]\n",
    "    potential_drugs = potential_drugs.union(set(drugs))\n",
    "\n",
    "\n",
    "for drug in potential_drugs:\n",
    "    # Create boolean for whether this drug was taken this day\n",
    "    df[f\"daily {drug}\"] = df[\"Daily in morning\"].str.contains(drug)\n",
    "    \n",
    "    # Also create a metric for the exact quantity taken each day\n",
    "    # daily in morning + throughout the day\n",
    "    for unit in units:\n",
    "        drug_info = df[\"Daily in morning\"].str.findall(f\"\\d+ {unit} {drug}\")\n",
    "        dosage = drug_info.astype(str).str.findall(f\"\\d+ {unit}\")\n",
    "        amount = dosage.astype(str).str.extract(\"(\\d+)\").astype(float)\n",
    "        if amount[0].isnull().mean() == 1:\n",
    "            continue\n",
    "        amount = amount[0].fillna(0)\n",
    "        if f\"{drug} {unit}\" in df.columns:\n",
    "            df[f\"{drug} {unit}\"] += amount\n",
    "        else:\n",
    "            df[f\"{drug} {unit}\"] = amount"
   ]
  },
  {
   "cell_type": "markdown",
   "id": "distinct-stuart",
   "metadata": {},
   "source": [
    "## Numeric metrics"
   ]
  },
  {
   "cell_type": "code",
   "execution_count": 9,
   "id": "preliminary-sapphire",
   "metadata": {},
   "outputs": [],
   "source": [
    "for pain_metric in [c for c in df.columns if \"pain\" in c]:\n",
    "    df[f\"{pain_metric} numeric\"] = pd.to_numeric(df[pain_metric], errors=\"coerce\")\n",
    "\n",
    "df[\"steps\"] = pd.to_numeric(df[\"steps\"].str.replace(\",\", \"\"))\n",
    "\n",
    "# Pain inferred from pain reported + meds\n",
    "df[\"pelvic_pain_inferred\"] = df[\"pelvic pain numeric\"]\n",
    "\n",
    "# Add a point for every 1500 mg Acetaminophen / day and every 4 mg THC\n",
    "df[\"pelvic_pain_inferred\"] += df[\"Acetaminophen mg\"] // 1500\n",
    "df[\"pelvic_pain_inferred\"] += df[\"THC mg\"] // 4\n",
    "\n",
    "df[\"day of cycle\"] = pd.to_numeric(df[\"day of cycle\"])"
   ]
  },
  {
   "cell_type": "code",
   "execution_count": 11,
   "id": "neutral-syndrome",
   "metadata": {},
   "outputs": [],
   "source": [
    "headache_values = {\n",
    "        \"no\": 0,\n",
    "        \"a bit\": 0.5,\n",
    "        \"yes\": 1,\n",
    "        \"extreme\": 2,\n",
    "}\n",
    "# Note: we consider missing values to mean \"no\", since that's how I record it\n",
    "for s, v in headache_values.items():\n",
    "    df.loc[df[\"headache\"] == s, \"headache_numeric\"] = v\n",
    "\n",
    "df.loc[df[\"headache\"] == \"\", \"headache_numeric\"] = 0\n",
    "df.loc[df[\"headache\"].isnull(), \"headache_numeric\"] = 0\n",
    "\n",
    "fatigue_values = {\n",
    "        \"ok\": 0,\n",
    "        \"yes\": 1,\n",
    "        \"extreme\": 2,\n",
    "}\n",
    "# Note: we ignore missing values, rather than assuming no fatigue\n",
    "df.loc[df[\"fatigue\"].isnull(), \"fatigue\"] = \"unknown\"\n",
    "for s, v in fatigue_values.items():\n",
    "    df.loc[df[\"fatigue\"] == s, \"fatigue_numeric\"] = v\n",
    "\n",
    "\n",
    "stomach_values = {\n",
    "    \"yes\": 1,\n",
    "    \"no\": 0,\n",
    "}\n",
    "for s, v in stomach_values.items():\n",
    "    df.loc[df[\"bloated stomach\"] == s, \"bloated_stomach_numeric\"] = v\n",
    "\n",
    "df.loc[df[\"bloated stomach\"] == \"\", \"bloated_stomach_numeric\"] = 0\n",
    "\n",
    "\n",
    "# Oura sleep scoure as qualitative groups\n",
    "df[\"previous night Oura score\"] = pd.to_numeric(df[\"previous night Oura score\"], errors=\"coerce\")\n",
    "df.loc[df[\"previous night Oura score\"] < 80, \"oura_group\"] = \"< 80\"\n",
    "df.loc[\n",
    "    (df[\"previous night Oura score\"] >= 80) &\n",
    "    (df[\"previous night Oura score\"] < 90)\n",
    ", \"oura_group\"] = \"80 - 90\"\n",
    "df.loc[df[\"previous night Oura score\"] >= 90, \"oura_group\"] = \"90+\"\n",
    "df[\"oura_group\"] = pd.Categorical(df[\"oura_group\"], [\"< 80\", \"80 - 90\", \"90+\"])\n",
    "\n",
    "# quintiles\n",
    "df[\"oura_quintile\"] = pd.cut(df[\"previous night Oura score\"], bins=5).apply(lambda x: x.mid)"
   ]
  },
  {
   "cell_type": "markdown",
   "id": "absolute-balance",
   "metadata": {},
   "source": [
    "### Change in pain metrics\n",
    "\n",
    "b/c over a long time, the metric skews and can't be compared directly"
   ]
  },
  {
   "cell_type": "code",
   "execution_count": 12,
   "id": "reserved-matrix",
   "metadata": {},
   "outputs": [],
   "source": [
    "for n_days_prior in [7, 28]:\n",
    "    previous = df.shift(n_days_prior)\n",
    "    metric = \"pelvic pain numeric\"\n",
    "    df[f\"pelvic_pain_vs_{n_days_prior}_days_ago\"] = (df[metric] - previous[metric])"
   ]
  },
  {
   "cell_type": "markdown",
   "id": "gothic-support",
   "metadata": {},
   "source": [
    "## Which cycle is this?"
   ]
  },
  {
   "cell_type": "code",
   "execution_count": 13,
   "id": "electoral-hawaiian",
   "metadata": {},
   "outputs": [],
   "source": [
    "first_days = df.loc[df[\"day of cycle\"] == 1].index.values\n",
    "\n",
    "def get_nth_cycle(row):\n",
    "    if np.isnan(row[\"day of cycle\"]):\n",
    "        return np.nan\n",
    "\n",
    "    # How many other cycles came before this one?\n",
    "    previous_first_days = [\n",
    "        d for d in first_days\n",
    "        if d <= row[\"date clean\"]\n",
    "    ]\n",
    "    return len(previous_first_days)\n",
    "\n",
    "df[\"nth_cycle\"] = df.reset_index().apply(get_nth_cycle, axis=1).tolist()"
   ]
  },
  {
   "cell_type": "code",
   "execution_count": 14,
   "id": "pursuant-yugoslavia",
   "metadata": {},
   "outputs": [],
   "source": [
    "df[\"peak_day\"] = df[\"cycle event\"] == \"peak day\"\n",
    "df.loc[df[\"cycle event\"].isnull(), \"peak_day\"] = np.nan\n",
    "\n",
    "# the last day of the period is a day of bleeding followed by no bleeding\n",
    "bleeding_symbols = [\"L\", \"M\", \"H\", \"S\", \"B\"]\n",
    "\n",
    "df[\"symbol_tomorrow\"] = df[\"symbol\"].shift(-1)\n",
    "\n",
    "df[\"last_bleeding_day\"] = (\n",
    "    df[\"symbol\"].isin(bleeding_symbols) &\n",
    "    (~df[\"symbol_tomorrow\"].isin(bleeding_symbols)) &\n",
    "    (df[\"day of cycle\"] < 10)\n",
    "    # make sure we're not including random days of spotting in the middle of the cycle\n",
    ")\n",
    "\n",
    "# last cycle day is the day before the next nth_cycle, aka before day of cycle is 1\n",
    "df[\"day_of_cycle_tomorrow\"] = df[\"day of cycle\"].shift(-1)\n",
    "df[\"last_cycle_day\"] = (df[\"day_of_cycle_tomorrow\"] == 1)"
   ]
  },
  {
   "cell_type": "code",
   "execution_count": 15,
   "id": "patent-midwest",
   "metadata": {},
   "outputs": [],
   "source": [
    "# marker for whether we fully charted this cycle\n",
    "# this will exclude cycles where we omitted symbols\n",
    "# but doesn't exclude the last cycle, where we haven't reached the end yet\n",
    "\n",
    "subset = df[df[\"day of cycle\"].notnull()]\n",
    "subset[\"day of cycle\"] = subset[\"day of cycle\"].astype(int)\n",
    "subset.loc[subset[\"symbol\"] == \"\", \"symbol\"] = np.nan\n",
    "\n",
    "table = subset.pivot(\n",
    "    index=\"nth_cycle\",\n",
    "    columns=\"day of cycle\",\n",
    "    values=\"symbol\",\n",
    ")\n",
    "\n",
    "day_count = pd.DataFrame(subset[\"nth_cycle\"].value_counts())\n",
    "symbol_count = pd.DataFrame(table.notnull().sum(axis=1))\n",
    "\n",
    "merged = day_count.merge(\n",
    "    symbol_count,\n",
    "    left_index=True,\n",
    "    right_index=True,\n",
    ")\n",
    "merged.columns = [\"days_count\", \"symbols_count\"]\n",
    "valid_cycles = merged.loc[merged[\"symbols_count\"] == merged[\"days_count\"]].index.values\n",
    "\n",
    "# valid_cycles = table[table.notnull().sum(axis=1) > 0].index.values\n",
    "df[\"valid_cycle\"] = df[\"nth_cycle\"].isin(valid_cycles)"
   ]
  },
  {
   "cell_type": "code",
   "execution_count": 16,
   "id": "congressional-writer",
   "metadata": {},
   "outputs": [],
   "source": [
    "df.to_csv(arguments[\"dataframe_outfile\"], index=True)"
   ]
  }
 ],
 "metadata": {
  "kernelspec": {
   "display_name": "Python 3",
   "language": "python",
   "name": "python3"
  },
  "language_info": {
   "codemirror_mode": {
    "name": "ipython",
    "version": 3
   },
   "file_extension": ".py",
   "mimetype": "text/x-python",
   "name": "python",
   "nbconvert_exporter": "python",
   "pygments_lexer": "ipython3",
   "version": "3.9.18"
  }
 },
 "nbformat": 4,
 "nbformat_minor": 5
}
