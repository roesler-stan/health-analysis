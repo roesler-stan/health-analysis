{
 "cells": [
  {
   "cell_type": "code",
   "execution_count": 55,
   "id": "spoken-acceptance",
   "metadata": {},
   "outputs": [],
   "source": [
    "%run constants.ipynb\n",
    "%run read_sheet.ipynb\n",
    "%run clean_functions.ipynb"
   ]
  },
  {
   "cell_type": "code",
   "execution_count": 56,
   "id": "frank-airplane",
   "metadata": {},
   "outputs": [],
   "source": [
    "# Load the arguments\n",
    "# Change this if you want to run this notebook directly, rather than from the parent NB\n",
    "with open(ARGUMENTS_FILENAME, \"r\") as fid:\n",
    "    arguments = json.load(fid)"
   ]
  },
  {
   "cell_type": "code",
   "execution_count": 57,
   "id": "incorrect-invention",
   "metadata": {},
   "outputs": [],
   "source": [
    "df = read_sheet(arguments[\"sheet_id\"], col_range=\"A:ZZ\")"
   ]
  },
  {
   "cell_type": "markdown",
   "id": "liberal-serial",
   "metadata": {},
   "source": [
    "#### General cleaning"
   ]
  },
  {
   "cell_type": "code",
   "execution_count": 58,
   "id": "regulation-accounting",
   "metadata": {},
   "outputs": [],
   "source": [
    "df = pivot_and_clean_dates(df)\n",
    "df = remove_empty_columns(df)\n",
    "df = clean_drugs(df)\n",
    "df = sum_hourly_medications(df)\n",
    "df = add_daily_medications(df)\n",
    "df = process_menstrual_cycles(df)"
   ]
  },
  {
   "cell_type": "markdown",
   "id": "curious-burden",
   "metadata": {},
   "source": [
    "#### Custom to how I track metrics"
   ]
  },
  {
   "cell_type": "code",
   "execution_count": 59,
   "id": "decent-spoke",
   "metadata": {},
   "outputs": [],
   "source": [
    "numeric_columns = [c for c in df.columns if \"pain\" in c]\n",
    "numeric_columns += [\n",
    "    \"steps\",\n",
    "]\n",
    "df = make_metrics_numeric(df, numeric_columns)\n",
    "\n",
    "metric = \"pelvic pain\"\n",
    "df = get_metric_change(df, metric)\n",
    "\n",
    "df = map_categorical_to_numeric(df)\n",
    "df = get_oura_groups(df)"
   ]
  },
  {
   "cell_type": "code",
   "execution_count": 60,
   "id": "rental-smile",
   "metadata": {},
   "outputs": [],
   "source": [
    "df.to_csv(arguments[\"dataframe_outfile\"], index=True)"
   ]
  }
 ],
 "metadata": {
  "kernelspec": {
   "display_name": "Python 3",
   "language": "python",
   "name": "python3"
  },
  "language_info": {
   "codemirror_mode": {
    "name": "ipython",
    "version": 3
   },
   "file_extension": ".py",
   "mimetype": "text/x-python",
   "name": "python",
   "nbconvert_exporter": "python",
   "pygments_lexer": "ipython3",
   "version": "3.9.18"
  }
 },
 "nbformat": 4,
 "nbformat_minor": 5
}
