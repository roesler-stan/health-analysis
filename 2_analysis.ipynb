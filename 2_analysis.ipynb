{
 "cells": [
  {
   "cell_type": "code",
   "execution_count": null,
   "id": "complex-travel",
   "metadata": {},
   "outputs": [],
   "source": [
    "%run constants.ipynb"
   ]
  },
  {
   "cell_type": "code",
   "execution_count": null,
   "id": "outside-patio",
   "metadata": {},
   "outputs": [],
   "source": [
    "# Load the arguments\n",
    "with open(ARGUMENTS_FILENAME, \"r\") as fid:\n",
    "    arguments = json.load(fid)\n",
    "\n",
    "df = pd.read_csv(arguments[\"dataframe_outfile\"])\n",
    "df[\"date clean\"] = pd.to_datetime(df[\"date clean\"])\n",
    "df.set_index(\"date clean\", inplace=True)\n",
    "df.sort_index(inplace=True)"
   ]
  },
  {
   "cell_type": "markdown",
   "id": "multiple-hollywood",
   "metadata": {},
   "source": [
    "## Cervical mucus charting"
   ]
  },
  {
   "cell_type": "code",
   "execution_count": null,
   "id": "divided-intent",
   "metadata": {},
   "outputs": [],
   "source": [
    "# https://matplotlib.org/stable/gallery/color/named_colors.html\n",
    "symbol_colors = {\n",
    "    \"B\": \"brown\",  # brown bleeding\n",
    "    \"S\": \"pink\",  # spotting\n",
    "    \"L\": \"salmon\",  # light\n",
    "    \"M\": \"tomato\",  # medium\n",
    "    \"H\": \"red\",  # heavy\n",
    "    \"EL\": \"cornflowerblue\",  # EL, mucus with some estrogen\n",
    "    \"ES\": \"royalblue\",  # ES, mucus with high estrogen\n",
    "    \"G\": \"gray\",  # dry, high in progesterone\n",
    "    \"U\": \"gold\",  # unknown\n",
    "}\n",
    "\n",
    "# Create dataset where we have cycle data, so we can always pivot on day\n",
    "subset = df[df[\"day of cycle\"].notnull()]\n",
    "subset[\"day of cycle\"] = subset[\"day of cycle\"].astype(int)"
   ]
  },
  {
   "cell_type": "code",
   "execution_count": null,
   "id": "sexual-tunisia",
   "metadata": {},
   "outputs": [],
   "source": [
    "def lookup_color(symbol_col):\n",
    "    return [\n",
    "        f\"background-color: {symbol_colors.get(symbol, 'white')}; color: white; font-weight: bold;\"\n",
    "        for symbol in symbol_col\n",
    "    ]\n",
    "\n",
    "table = subset[subset[\"valid_cycle\"]].pivot(\n",
    "    index=\"nth_cycle\",\n",
    "    columns=\"day of cycle\",\n",
    "    values=\"symbol\",\n",
    ")\n",
    "\n",
    "styled_table = table.style.apply(lookup_color)\n",
    "styled_table"
   ]
  },
  {
   "cell_type": "code",
   "execution_count": null,
   "id": "educational-assets",
   "metadata": {},
   "outputs": [],
   "source": [
    "# Save the charting image to the output folder\n",
    "# Note: this requires installing an old version of Pillow: Pillow==9.0.0\n",
    "import dataframe_image as dfi\n",
    "\n",
    "date = datetime.datetime.now().strftime(\"%Y-%m-%d\")\n",
    "dfi.export(styled_table, f\"{arguments['output_directory']}/charting_{date}.png\", dpi=400)"
   ]
  },
  {
   "cell_type": "markdown",
   "id": "presidential-liberal",
   "metadata": {
    "toc-hr-collapsed": true
   },
   "source": [
    "## Analysis of symptoms over time"
   ]
  },
  {
   "cell_type": "markdown",
   "id": "rational-country",
   "metadata": {},
   "source": [
    "### Fatigue, a categorical variable"
   ]
  },
  {
   "cell_type": "code",
   "execution_count": null,
   "id": "civilian-prevention",
   "metadata": {},
   "outputs": [],
   "source": [
    "def plot_categorical_rate(\n",
    "    metric: str,\n",
    "    days_mean: int,\n",
    "    possible_values: list[str],\n",
    "    nan_is_no: bool = False,\n",
    "):\n",
    "    for possible_value in possible_values:\n",
    "        df[f\"{metric}_{possible_value}\"] = (df[metric] == possible_value).astype(int)\n",
    "        # assume no value means \"no\", if desired\n",
    "        if nan_is_no and possible_value == \"no\":\n",
    "            df.loc[df[metric].isnull(), f\"{metric}_{possible_value}\"] = 1\n",
    "\n",
    "    rate_metrics = [\n",
    "        f\"{metric}_{possible_value}\"\n",
    "        for possible_value in possible_values\n",
    "    ]\n",
    "\n",
    "    fig, ax = plt.subplots(figsize=(12, 8))\n",
    "    for rate_metric in rate_metrics:\n",
    "        if df[rate_metric].mean() == 0:\n",
    "            continue\n",
    "\n",
    "        plt.plot(\n",
    "            df[rate_metric].rolling(f\"{days_mean}D\").mean() * 100,\n",
    "            label=rate_metric.replace(f\"{metric}_\", \"\"),\n",
    "        )\n",
    "        fig.autofmt_xdate()\n",
    "\n",
    "    plt.legend(title=metric.title())\n",
    "    plt.title(f\"{metric.title()} frequency\")\n",
    "    plt.ylabel(f\"% of days with this type of {metric} ({days_mean}-day rolling mean)\")"
   ]
  },
  {
   "cell_type": "code",
   "execution_count": null,
   "id": "together-juvenile",
   "metadata": {},
   "outputs": [],
   "source": [
    "metric = \"fatigue\"\n",
    "days_mean = 30\n",
    "possible_values = [\n",
    "    \"ok\",\n",
    "    \"no\",\n",
    "    \"yes\",\n",
    "    \"extreme\",\n",
    "    \"a bit\",\n",
    "]\n",
    "\n",
    "plot_categorical_rate(metric, days_mean, possible_values, nan_is_no=False)"
   ]
  },
  {
   "cell_type": "code",
   "execution_count": null,
   "id": "labeled-circulation",
   "metadata": {},
   "outputs": [],
   "source": [
    "metric = \"headache\"\n",
    "days_mean = 30\n",
    "possible_values = [\n",
    "    \"no\",\n",
    "    \"yes\",\n",
    "    \"extreme\",\n",
    "    \"a bit\",\n",
    "]\n",
    "\n",
    "plot_categorical_rate(metric, days_mean, possible_values, nan_is_no=True)"
   ]
  },
  {
   "cell_type": "code",
   "execution_count": null,
   "id": "thick-sample",
   "metadata": {},
   "outputs": [],
   "source": [
    "metric = \"bloated stomach\"\n",
    "days_mean = 30\n",
    "possible_values = [\n",
    "    \"no\",\n",
    "    \"yes\",\n",
    "]\n",
    "plot_categorical_rate(metric, days_mean, possible_values, nan_is_no=True)"
   ]
  },
  {
   "cell_type": "markdown",
   "id": "grand-detective",
   "metadata": {},
   "source": [
    "### Pelvic pain: raw vs. inferred given pain medication"
   ]
  },
  {
   "cell_type": "code",
   "execution_count": null,
   "id": "expressed-coffee",
   "metadata": {},
   "outputs": [],
   "source": [
    "for days_window in [7, 28]:\n",
    "    metrics = [\n",
    "        \"pelvic pain numeric\",\n",
    "        \"pelvic_pain_inferred\",\n",
    "    ]\n",
    "\n",
    "    fig, ax = plt.subplots(figsize=(12, 8))\n",
    "    for metric in metrics:\n",
    "        plt.plot(\n",
    "            df[metric].rolling(f\"{days_window}D\").mean(),\n",
    "            label=metric.replace(\"_\", \" \").replace(\" numeric\", \"\"),\n",
    "        )\n",
    "        fig.autofmt_xdate()\n",
    "\n",
    "    plt.legend(title=\"Metric\")\n",
    "    plt.ylabel(f\"{days_window}-day rolling mean\")\n",
    "    plt.title(f\"{days_window}-day rolling mean\")"
   ]
  },
  {
   "cell_type": "code",
   "execution_count": null,
   "id": "polar-seafood",
   "metadata": {},
   "outputs": [],
   "source": [
    "# Note: it's a bit silly to plot these both on the same scale, since they mean very different things\n",
    "days_window = 28\n",
    "metrics = [\n",
    "    \"pelvic pain numeric\",\n",
    "    \"THC mg\",\n",
    "]\n",
    "\n",
    "fig, ax = plt.subplots(figsize=(12, 8))\n",
    "for metric in metrics:\n",
    "    plt.plot(\n",
    "        df[metric].rolling(f\"{days_window}D\").mean(),\n",
    "        label=metric.replace(\"_\", \" \").replace(\" numeric\", \"\"),\n",
    "    )\n",
    "    fig.autofmt_xdate()\n",
    "\n",
    "plt.legend(title=\"Metric\")\n",
    "plt.ylabel(f\"{days_window}-day rolling mean\")\n",
    "plt.title(f\"{days_window}-day rolling mean\")"
   ]
  },
  {
   "cell_type": "code",
   "execution_count": null,
   "id": "thirty-leadership",
   "metadata": {},
   "outputs": [],
   "source": [
    "def plot_timeline(\n",
    "    metric: str,\n",
    "    days_window: int,\n",
    "    only_valid_cycles: bool,\n",
    "):\n",
    "    if only_valid_cycles:\n",
    "        plot_data = df.loc[df[\"valid_cycle\"]].copy()\n",
    "    else:\n",
    "        plot_data = df.copy()\n",
    "\n",
    "    fig, ax = plt.subplots(figsize=(12, 8), facecolor=\"w\")\n",
    "    \n",
    "    plt.plot(\n",
    "        plot_data[metric].rolling(f\"{days_window}D\").mean(),\n",
    "        label=metric.replace(\"_\", \" \").replace(\" numeric\", \"\"),\n",
    "    )\n",
    "\n",
    "    ## Peak day\n",
    "    plotted_peak = False\n",
    "    peak_days = plot_data.loc[plot_data[\"peak_day\"] == True].index.values\n",
    "    for peak_day in peak_days:\n",
    "        # only make one legend label\n",
    "        if plotted_peak:\n",
    "            label = None\n",
    "        else:\n",
    "            label = \"Peak Day\"\n",
    "            plotted_peak = True\n",
    "        # approximate ovulation date, made a bit wider for visibility\n",
    "        plt.axvspan(\n",
    "            xmin=peak_day + np.timedelta64(-1,'D'),\n",
    "            xmax=peak_day,\n",
    "            color=\"royalblue\",\n",
    "            alpha=0.4,\n",
    "            label=label,\n",
    "        )\n",
    "\n",
    "    ## Menstruation\n",
    "    plotted_menstruation = False\n",
    "    for cycle in plot_data[\"nth_cycle\"].unique():\n",
    "        if np.isnan(cycle):\n",
    "            continue\n",
    "\n",
    "        first_day_df = plot_data.loc[\n",
    "            (plot_data[\"nth_cycle\"] == cycle) &\n",
    "            (plot_data[\"day of cycle\"] == 1)\n",
    "        ]\n",
    "\n",
    "        last_day_df = plot_data.loc[\n",
    "            (plot_data[\"nth_cycle\"] == cycle) &\n",
    "            plot_data[\"last_bleeding_day\"]\n",
    "        ]\n",
    "        if first_day_df.empty or last_day_df.empty:\n",
    "            continue\n",
    "        first_day = first_day_df.index.values[0]\n",
    "        last_day = last_day_df.index.values[0]\n",
    "\n",
    "        # only make one legend label\n",
    "        if plotted_menstruation:\n",
    "            label = None\n",
    "        else:\n",
    "            label = \"Menstruation\"\n",
    "            plotted_menstruation = True\n",
    "        plt.axvspan(\n",
    "            xmin=first_day,\n",
    "            xmax=last_day,\n",
    "            color=\"salmon\",\n",
    "            alpha=0.4,\n",
    "            label=label,\n",
    "        )\n",
    "\n",
    "    fig.autofmt_xdate()\n",
    "\n",
    "    plt.ylabel(f\"{metric} {days_window}-day rolling mean\")\n",
    "    plt.title(f\"{metric} {days_window}-day rolling mean\")\n",
    "    plt.legend(title=\"Metric/event\")\n",
    "    \n",
    "    fig.savefig(\n",
    "        f\"{arguments['output_directory']}/{metric}_valid_only_{only_valid_cycles}.png\",\n",
    "    )"
   ]
  },
  {
   "cell_type": "markdown",
   "id": "stunning-cancer",
   "metadata": {},
   "source": [
    "### Superimpose menstruation and ovulation"
   ]
  },
  {
   "cell_type": "code",
   "execution_count": null,
   "id": "current-filing",
   "metadata": {},
   "outputs": [],
   "source": [
    "plot_timeline(\n",
    "    metric=\"pelvic_pain_inferred\",\n",
    "    days_window=7,\n",
    "    only_valid_cycles=True,  # set this to false if you want to include dates without known cycle info\n",
    ")"
   ]
  },
  {
   "cell_type": "markdown",
   "id": "federal-portugal",
   "metadata": {},
   "source": [
    "### Plot by cycle day, rather than by date"
   ]
  },
  {
   "cell_type": "code",
   "execution_count": null,
   "id": "enabling-incidence",
   "metadata": {},
   "outputs": [],
   "source": [
    "days_window = 3 # choose a small window to preserve information about the day\n",
    "\n",
    "metrics = [\n",
    "    \"pelvic pain\",\n",
    "    \"previous night Oura score\",\n",
    "]\n",
    "\n",
    "# subset.sort_values([\"day of cycle\", \"nth_cycle\"], inplace=True)\n",
    "indexed = subset.set_index(\"day of cycle\")\n",
    "indexed.sort_index(inplace=True)\n",
    "\n",
    "fig, ax = plt.subplots(figsize=(12, 8))\n",
    "\n",
    "for metric in metrics:\n",
    "    # create a standardized metric, so we can compare many at once\n",
    "    indexed[f\"{metric}_standardized\"] = (\n",
    "        (indexed[metric] - indexed[metric].mean())\n",
    "        / (2 * indexed[metric].std())\n",
    "    )\n",
    "\n",
    "    # Note: confidence intervals are likely too tight b/c of high correlation among similar days of cycle\n",
    "    # TODO: fit ARIMA model\n",
    "    sns.lineplot(\n",
    "        x=indexed.index,\n",
    "        y=indexed[f\"{metric}_standardized\"].rolling(window=days_window).mean(),\n",
    "        ci=False,\n",
    "        label=metric.replace(\"_\", \" \").replace(\" numeric\", \"\"),\n",
    "    )\n",
    "\n",
    "plt.xlabel(\"Day of Cycle\")\n",
    "plt.ylabel(f\"{days_window}-day rolling mean\")\n",
    "plt.title(f\"Standardized metrics by day of cycle, {days_window}-day mean\")\n",
    "plt.legend(title=\"Metric\")"
   ]
  },
  {
   "cell_type": "markdown",
   "id": "narrative-wales",
   "metadata": {},
   "source": [
    "## Sleep scores\n",
    "\n",
    "I use the Oura ring to track my sleep"
   ]
  },
  {
   "cell_type": "code",
   "execution_count": null,
   "id": "tropical-walnut",
   "metadata": {},
   "outputs": [],
   "source": [
    "fig, ax = plt.subplots(figsize=(12, 8))\n",
    "df[\"previous night Oura score\"].hist(bins=20)\n",
    "plt.xlabel(\"Oura sleep score\")\n",
    "plt.ylabel(\"Frequency\")\n",
    "plt.title(\"Sleep score\")"
   ]
  },
  {
   "cell_type": "markdown",
   "id": "perceived-idaho",
   "metadata": {},
   "source": [
    "#### Does poor sleep predict symptoms?"
   ]
  },
  {
   "cell_type": "code",
   "execution_count": null,
   "id": "removed-assurance",
   "metadata": {},
   "outputs": [],
   "source": [
    "# as qualitative groups\n",
    "df.loc[df[\"previous night Oura score\"] < 80, \"oura_group\"] = \"< 80\"\n",
    "df.loc[\n",
    "    (df[\"previous night Oura score\"] >= 80) &\n",
    "    (df[\"previous night Oura score\"] < 90)\n",
    ", \"oura_group\"] = \"80 - 90\"\n",
    "df.loc[df[\"previous night Oura score\"] >= 90, \"oura_group\"] = \"90+\""
   ]
  },
  {
   "cell_type": "code",
   "execution_count": null,
   "id": "tropical-courage",
   "metadata": {},
   "outputs": [],
   "source": [
    "for metric in [\"pelvic pain\", \"fatigue_numeric\"]:\n",
    "    fig, ax = plt.subplots(figsize=(12, 8))\n",
    "    sns.boxplot(\n",
    "        x=df[\"oura_group\"],\n",
    "        y=df[metric],\n",
    "        order=[\"< 80\", \"80 - 90\", \"90+\"],\n",
    "        color=\"gray\",\n",
    "    )\n",
    "    metric_label = metric.replace(\"_\", \" \").replace(\" numeric\", \"\").capitalize()\n",
    "    plt.xlabel(\"Oura sleep score (binned)\")\n",
    "    plt.ylabel(metric_label)\n",
    "    plt.title(f\"{metric_label} by sleep score\")"
   ]
  },
  {
   "cell_type": "code",
   "execution_count": null,
   "id": "female-french",
   "metadata": {},
   "outputs": [],
   "source": [
    "# quintiles\n",
    "df[\"oura_binned\"] = pd.cut(df[\"previous night Oura score\"], bins=5).apply(lambda x: x.mid)\n",
    "\n",
    "for metric in [\"pelvic pain\", \"fatigue_numeric\"]:\n",
    "    fig, ax = plt.subplots(figsize=(12, 8))\n",
    "    sns.lineplot(\n",
    "        x=df[\"oura_binned\"],\n",
    "        y=df[metric],\n",
    "    )\n",
    "    metric_label = metric.replace(\"_\", \" \").replace(\" numeric\", \"\").capitalize()\n",
    "    plt.xlabel(\"Oura sleep score (binned)\")\n",
    "    plt.ylabel(metric_label)\n",
    "    plt.title(f\"{metric_label} by sleep score\")"
   ]
  }
 ],
 "metadata": {
  "kernelspec": {
   "display_name": "Python 3",
   "language": "python",
   "name": "python3"
  },
  "language_info": {
   "codemirror_mode": {
    "name": "ipython",
    "version": 3
   },
   "file_extension": ".py",
   "mimetype": "text/x-python",
   "name": "python",
   "nbconvert_exporter": "python",
   "pygments_lexer": "ipython3",
   "version": "3.9.18"
  }
 },
 "nbformat": 4,
 "nbformat_minor": 5
}
