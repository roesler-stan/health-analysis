{
 "cells": [
  {
   "cell_type": "code",
   "execution_count": null,
   "id": "tropical-scroll",
   "metadata": {},
   "outputs": [],
   "source": [
    "%run constants.ipynb"
   ]
  },
  {
   "cell_type": "code",
   "execution_count": null,
   "id": "seventh-profile",
   "metadata": {},
   "outputs": [],
   "source": [
    "# Load the arguments\n",
    "with open(ARGUMENTS_FILENAME, \"r\") as fid:\n",
    "    arguments = json.load(fid)\n",
    "\n",
    "df = pd.read_csv(arguments[\"dataframe_outfile\"])\n",
    "df[\"date clean\"] = pd.to_datetime(df[\"date clean\"])\n",
    "df.set_index(\"date clean\", inplace=True)\n",
    "df.sort_index(inplace=True)"
   ]
  },
  {
   "cell_type": "markdown",
   "id": "toxic-macedonia",
   "metadata": {},
   "source": [
    "## Cervical mucus charting"
   ]
  },
  {
   "cell_type": "code",
   "execution_count": null,
   "id": "electric-somerset",
   "metadata": {},
   "outputs": [],
   "source": [
    "# https://matplotlib.org/stable/gallery/color/named_colors.html\n",
    "symbol_colors = {\n",
    "    \"B\": \"brown\",  # brown bleeding\n",
    "    \"S\": \"pink\",  # spotting\n",
    "    \"L\": \"salmon\",  # light\n",
    "    \"M\": \"tomato\",  # medium\n",
    "    \"H\": \"red\",  # heavy\n",
    "    \"EL\": \"cornflowerblue\",  # EL, mucus with some estrogen\n",
    "    \"ES\": \"royalblue\",  # ES, mucus with high estrogen\n",
    "    \"G\": \"gray\",  # dry, high in progesterone\n",
    "    \"U\": \"gold\",  # unknown\n",
    "}\n",
    "\n",
    "# Create dataset where we have cycle data, so we can always pivot on day\n",
    "subset = df[df[\"day of cycle\"].notnull()]\n",
    "subset[\"day of cycle\"] = subset[\"day of cycle\"].astype(int)"
   ]
  },
  {
   "cell_type": "code",
   "execution_count": null,
   "id": "collective-childhood",
   "metadata": {},
   "outputs": [],
   "source": [
    "def lookup_color(symbol_col):\n",
    "    return [\n",
    "        f\"background-color: {symbol_colors.get(symbol, 'white')}; color: white; font-weight: bold;\"\n",
    "        for symbol in symbol_col\n",
    "    ]\n",
    "\n",
    "table = subset[subset[\"valid_cycle\"]].pivot(\n",
    "    index=\"nth_cycle\",\n",
    "    columns=\"day of cycle\",\n",
    "    values=\"symbol\",\n",
    ")\n",
    "\n",
    "styled_table = table.style.apply(lookup_color)\n",
    "styled_table"
   ]
  },
  {
   "cell_type": "code",
   "execution_count": null,
   "id": "proper-degree",
   "metadata": {},
   "outputs": [],
   "source": [
    "# Save the charting image to the output folder\n",
    "# Note: this requires installing an old version of Pillow: Pillow==9.0.0\n",
    "import dataframe_image as dfi\n",
    "\n",
    "date = datetime.datetime.now().strftime(\"%Y-%m-%d\")\n",
    "dfi.export(styled_table, f\"{arguments['output_directory']}/charting_{date}.png\", dpi=400)"
   ]
  },
  {
   "cell_type": "markdown",
   "id": "fiscal-genius",
   "metadata": {
    "toc-hr-collapsed": true
   },
   "source": [
    "## Analysis of symptoms over time"
   ]
  },
  {
   "cell_type": "markdown",
   "id": "demonstrated-calibration",
   "metadata": {},
   "source": [
    "### Fatigue, a categorical variable"
   ]
  },
  {
   "cell_type": "code",
   "execution_count": null,
   "id": "prescribed-rachel",
   "metadata": {},
   "outputs": [],
   "source": [
    "def plot_categorical_rate(\n",
    "    metric: str,\n",
    "    days_mean: int,\n",
    "    possible_values: list[str],\n",
    "    nan_is_no: bool = False,\n",
    "):\n",
    "    for possible_value in possible_values:\n",
    "        df[f\"{metric}_{possible_value}\"] = (df[metric] == possible_value).astype(int)\n",
    "        # assume no value means \"no\", if desired\n",
    "        if nan_is_no and possible_value == \"no\":\n",
    "            df.loc[df[metric].isnull(), f\"{metric}_{possible_value}\"] = 1\n",
    "\n",
    "    rate_metrics = [\n",
    "        f\"{metric}_{possible_value}\"\n",
    "        for possible_value in possible_values\n",
    "    ]\n",
    "\n",
    "    fig, ax = plt.subplots(figsize=(12, 8), facecolor=\"w\")\n",
    "    for rate_metric in rate_metrics:\n",
    "        if df[rate_metric].mean() == 0:\n",
    "            continue\n",
    "\n",
    "        plt.plot(\n",
    "            df[rate_metric].rolling(f\"{days_mean}D\").mean() * 100,\n",
    "            label=rate_metric.replace(f\"{metric}_\", \"\"),\n",
    "        )\n",
    "        fig.autofmt_xdate()\n",
    "\n",
    "    plt.legend(title=metric.title())\n",
    "    plt.title(f\"{metric.title()} frequency\")\n",
    "    plt.ylabel(f\"% of days with this type of {metric} ({days_mean}-day rolling mean)\")"
   ]
  },
  {
   "cell_type": "code",
   "execution_count": null,
   "id": "varying-favor",
   "metadata": {},
   "outputs": [],
   "source": [
    "metric = \"fatigue\"\n",
    "days_mean = 30\n",
    "possible_values = [\n",
    "    \"ok\",\n",
    "    \"no\",\n",
    "    \"yes\",\n",
    "    \"extreme\",\n",
    "    \"a bit\",\n",
    "]\n",
    "\n",
    "plot_categorical_rate(metric, days_mean, possible_values, nan_is_no=False)"
   ]
  },
  {
   "cell_type": "code",
   "execution_count": null,
   "id": "senior-benjamin",
   "metadata": {},
   "outputs": [],
   "source": [
    "metric = \"headache\"\n",
    "days_mean = 30\n",
    "possible_values = [\n",
    "    \"no\",\n",
    "    \"yes\",\n",
    "    \"extreme\",\n",
    "    \"a bit\",\n",
    "]\n",
    "\n",
    "plot_categorical_rate(metric, days_mean, possible_values, nan_is_no=True)"
   ]
  },
  {
   "cell_type": "code",
   "execution_count": null,
   "id": "frozen-fluid",
   "metadata": {},
   "outputs": [],
   "source": [
    "metric = \"bloated stomach\"\n",
    "days_mean = 30\n",
    "possible_values = [\n",
    "    \"no\",\n",
    "    \"yes\",\n",
    "]\n",
    "plot_categorical_rate(metric, days_mean, possible_values, nan_is_no=True)"
   ]
  },
  {
   "cell_type": "markdown",
   "id": "metric-taxation",
   "metadata": {},
   "source": [
    "### Pelvic pain: raw vs. inferred given pain medication"
   ]
  },
  {
   "cell_type": "code",
   "execution_count": null,
   "id": "played-anderson",
   "metadata": {},
   "outputs": [],
   "source": [
    "for days_window in [7, 28]:\n",
    "    metrics = [\n",
    "        \"pelvic pain numeric\",\n",
    "        \"pelvic_pain_inferred\",\n",
    "    ]\n",
    "\n",
    "    fig, ax = plt.subplots(figsize=(12, 8), facecolor=\"w\")\n",
    "    for metric in metrics:\n",
    "        plt.plot(\n",
    "            df[metric].rolling(f\"{days_window}D\").mean(),\n",
    "            label=metric.replace(\"_\", \" \").replace(\" numeric\", \"\"),\n",
    "        )\n",
    "        fig.autofmt_xdate()\n",
    "\n",
    "    plt.legend(title=\"Metric\")\n",
    "    plt.ylabel(f\"{days_window}-day rolling mean\")\n",
    "    plt.title(f\"{days_window}-day rolling mean\")"
   ]
  },
  {
   "cell_type": "markdown",
   "id": "pleasant-tract",
   "metadata": {},
   "source": [
    "#### THC usage"
   ]
  },
  {
   "cell_type": "code",
   "execution_count": null,
   "id": "european-association",
   "metadata": {},
   "outputs": [],
   "source": [
    "metric = \"THC mg\"\n",
    "days_window = 28\n",
    "\n",
    "fig, ax = plt.subplots(figsize=(12, 8), facecolor=\"w\")\n",
    "plt.plot(\n",
    "    df[metric].rolling(f\"{days_window}D\").mean(),\n",
    "    label=metric.replace(\"_\", \" \").replace(\" numeric\", \"\"),\n",
    ")\n",
    "fig.autofmt_xdate()\n",
    "\n",
    "plt.legend(title=\"Metric\")\n",
    "plt.ylabel(f\"{days_window}-day rolling mean\")\n",
    "plt.title(f\"{days_window}-day rolling mean\")"
   ]
  },
  {
   "cell_type": "markdown",
   "id": "forward-channel",
   "metadata": {},
   "source": [
    "#### Sleep quality"
   ]
  },
  {
   "cell_type": "code",
   "execution_count": null,
   "id": "connected-raleigh",
   "metadata": {},
   "outputs": [],
   "source": [
    "metric = \"previous night Oura score\"\n",
    "days_window = 28\n",
    "\n",
    "fig, ax = plt.subplots(figsize=(12, 8), facecolor=\"w\")\n",
    "plt.plot(\n",
    "    df[metric].rolling(f\"{days_window}D\").mean(),\n",
    "    label=metric.replace(\"_\", \" \").replace(\" numeric\", \"\"),\n",
    ")\n",
    "fig.autofmt_xdate()\n",
    "\n",
    "plt.legend(title=\"Metric\")\n",
    "plt.ylabel(f\"{days_window}-day rolling mean\")\n",
    "plt.title(f\"{days_window}-day rolling mean\")"
   ]
  },
  {
   "cell_type": "code",
   "execution_count": null,
   "id": "initial-content",
   "metadata": {},
   "outputs": [],
   "source": [
    "def plot_timeline(\n",
    "    metric: str,\n",
    "    days_window: int,\n",
    "    only_valid_cycles: bool,\n",
    "):\n",
    "    if only_valid_cycles:\n",
    "        plot_data = df.loc[df[\"valid_cycle\"]].copy()\n",
    "    else:\n",
    "        plot_data = df.copy()\n",
    "\n",
    "    fig, ax = plt.subplots(figsize=(12, 8), facecolor=\"w\")\n",
    "    \n",
    "    plt.plot(\n",
    "        plot_data[metric].rolling(f\"{days_window}D\").mean(),\n",
    "        label=metric.replace(\"_\", \" \").replace(\" numeric\", \"\"),\n",
    "    )\n",
    "\n",
    "    ## Peak day\n",
    "    plotted_peak = False\n",
    "    peak_days = plot_data.loc[plot_data[\"peak_day\"] == True].index.values\n",
    "    for peak_day in peak_days:\n",
    "        # only make one legend label\n",
    "        if plotted_peak:\n",
    "            label = None\n",
    "        else:\n",
    "            label = \"Peak Day\"\n",
    "            plotted_peak = True\n",
    "        # approximate ovulation date, made a bit wider for visibility\n",
    "        plt.axvspan(\n",
    "            xmin=peak_day + np.timedelta64(-1,'D'),\n",
    "            xmax=peak_day,\n",
    "            color=\"royalblue\",\n",
    "            alpha=0.4,\n",
    "            label=label,\n",
    "        )\n",
    "\n",
    "    ## Menstruation\n",
    "    plotted_menstruation = False\n",
    "    for cycle in plot_data[\"nth_cycle\"].unique():\n",
    "        if np.isnan(cycle):\n",
    "            continue\n",
    "\n",
    "        first_day_df = plot_data.loc[\n",
    "            (plot_data[\"nth_cycle\"] == cycle) &\n",
    "            (plot_data[\"day of cycle\"] == 1)\n",
    "        ]\n",
    "\n",
    "        last_day_df = plot_data.loc[\n",
    "            (plot_data[\"nth_cycle\"] == cycle) &\n",
    "            plot_data[\"last_bleeding_day\"]\n",
    "        ]\n",
    "        if first_day_df.empty or last_day_df.empty:\n",
    "            continue\n",
    "        first_day = first_day_df.index.values[0]\n",
    "        last_day = last_day_df.index.values[0]\n",
    "\n",
    "        # only make one legend label\n",
    "        if plotted_menstruation:\n",
    "            label = None\n",
    "        else:\n",
    "            label = \"Menstruation\"\n",
    "            plotted_menstruation = True\n",
    "        plt.axvspan(\n",
    "            xmin=first_day,\n",
    "            xmax=last_day,\n",
    "            color=\"salmon\",\n",
    "            alpha=0.4,\n",
    "            label=label,\n",
    "        )\n",
    "\n",
    "    fig.autofmt_xdate()\n",
    "\n",
    "    plt.ylabel(f\"{metric} {days_window}-day rolling mean\")\n",
    "    plt.title(f\"{metric} {days_window}-day rolling mean\")\n",
    "    plt.legend(title=\"Metric/event\")\n",
    "    \n",
    "    fig.savefig(\n",
    "        f\"{arguments['output_directory']}/{metric}_valid_only_{only_valid_cycles}.png\",\n",
    "    )"
   ]
  },
  {
   "cell_type": "markdown",
   "id": "expired-native",
   "metadata": {},
   "source": [
    "### Superimpose menstruation and ovulation"
   ]
  },
  {
   "cell_type": "code",
   "execution_count": null,
   "id": "wired-austria",
   "metadata": {},
   "outputs": [],
   "source": [
    "plot_timeline(\n",
    "    metric=\"pelvic_pain_inferred\",\n",
    "    days_window=7,\n",
    "    only_valid_cycles=True,  # set this to false if you want to include dates without known cycle info\n",
    ")"
   ]
  },
  {
   "cell_type": "markdown",
   "id": "manual-embassy",
   "metadata": {},
   "source": [
    "### Plot by cycle day, rather than by date\n",
    "\n",
    "Note that metrics are standardized."
   ]
  },
  {
   "cell_type": "code",
   "execution_count": null,
   "id": "metropolitan-singer",
   "metadata": {},
   "outputs": [],
   "source": [
    "days_window = 3 # choose a small window to preserve information about the day\n",
    "\n",
    "metrics = [\n",
    "    \"pelvic pain\",\n",
    "    \"previous night Oura score\",\n",
    "]\n",
    "\n",
    "indexed = subset.set_index(\"day of cycle\")\n",
    "indexed.sort_index(inplace=True)\n",
    "\n",
    "fig, ax = plt.subplots(figsize=(12, 8), facecolor=\"w\")\n",
    "\n",
    "for metric in metrics:\n",
    "    # create a standardized metric, so we can compare many at once\n",
    "    indexed[f\"{metric}_standardized\"] = (\n",
    "        (indexed[metric] - indexed[metric].mean())\n",
    "        / (2 * indexed[metric].std())\n",
    "    )\n",
    "\n",
    "    # Note: confidence intervals are likely too tight b/c of high correlation among similar days of cycle\n",
    "    # TODO: fit ARIMA model\n",
    "    sns.lineplot(\n",
    "        x=indexed.index,\n",
    "        y=indexed[f\"{metric}_standardized\"].rolling(window=days_window).mean(),\n",
    "        ci=False,\n",
    "        label=metric.replace(\"_\", \" \").replace(\" numeric\", \"\"),\n",
    "    )\n",
    "\n",
    "plt.xlabel(\"Day of Cycle\")\n",
    "plt.ylabel(f\"{days_window}-day rolling mean\")\n",
    "plt.title(f\"Standardized metrics by day of cycle, {days_window}-day mean\")\n",
    "plt.legend(title=\"Metric\")"
   ]
  },
  {
   "cell_type": "markdown",
   "id": "miniature-kazakhstan",
   "metadata": {},
   "source": [
    "## Sleep scores\n",
    "\n",
    "I use an Oura ring to track my sleep."
   ]
  },
  {
   "cell_type": "code",
   "execution_count": null,
   "id": "regulation-omega",
   "metadata": {},
   "outputs": [],
   "source": [
    "fig, ax = plt.subplots(figsize=(12, 8), facecolor=\"w\")\n",
    "df[\"previous night Oura score\"].hist(bins=20)\n",
    "plt.xlabel(\"Oura sleep score\")\n",
    "plt.ylabel(\"Frequency\")\n",
    "plt.title(\"Sleep score\")"
   ]
  },
  {
   "cell_type": "markdown",
   "id": "confident-hollow",
   "metadata": {},
   "source": [
    "#### Does poor sleep predict symptoms?"
   ]
  },
  {
   "cell_type": "code",
   "execution_count": null,
   "id": "honey-postcard",
   "metadata": {},
   "outputs": [],
   "source": [
    "# as qualitative groups\n",
    "df.loc[df[\"previous night Oura score\"] < 80, \"oura_group\"] = \"< 80\"\n",
    "df.loc[\n",
    "    (df[\"previous night Oura score\"] >= 80) &\n",
    "    (df[\"previous night Oura score\"] < 90)\n",
    ", \"oura_group\"] = \"80 - 90\"\n",
    "df.loc[df[\"previous night Oura score\"] >= 90, \"oura_group\"] = \"90+\""
   ]
  },
  {
   "cell_type": "code",
   "execution_count": null,
   "id": "mineral-generic",
   "metadata": {},
   "outputs": [],
   "source": [
    "metric = \"fatigue_numeric\"\n",
    "fig, ax = plt.subplots(figsize=(12, 8), facecolor=\"w\")\n",
    "sns.boxplot(\n",
    "    x=df[\"oura_group\"],\n",
    "    y=df[metric],\n",
    "    order=[\"< 80\", \"80 - 90\", \"90+\"],\n",
    "    color=\"gray\",\n",
    ")\n",
    "metric_label = metric.replace(\"_\", \" \").replace(\" numeric\", \"\").capitalize()\n",
    "plt.xlabel(\"Oura sleep score (binned)\")\n",
    "plt.ylabel(metric_label)\n",
    "plt.title(f\"{metric_label} by sleep score\")"
   ]
  },
  {
   "cell_type": "code",
   "execution_count": null,
   "id": "adverse-challenge",
   "metadata": {},
   "outputs": [],
   "source": [
    "# quintiles\n",
    "df[\"oura_binned\"] = pd.cut(df[\"previous night Oura score\"], bins=5).apply(lambda x: x.mid)\n",
    "\n",
    "metric = \"fatigue_numeric\"\n",
    "fig, ax = plt.subplots(figsize=(12, 8), facecolor=\"w\")\n",
    "sns.lineplot(\n",
    "    x=df[\"oura_binned\"],\n",
    "    y=df[metric],\n",
    ")\n",
    "metric_label = metric.replace(\"_\", \" \").replace(\" numeric\", \"\").capitalize()\n",
    "plt.xlabel(\"Oura sleep score (binned)\")\n",
    "plt.ylabel(metric_label)\n",
    "plt.title(f\"{metric_label} by sleep score\")"
   ]
  },
  {
   "cell_type": "markdown",
   "id": "round-syria",
   "metadata": {},
   "source": [
    "## Since pain is hard to quantify, look at pain today vs. a week ago"
   ]
  },
  {
   "cell_type": "code",
   "execution_count": null,
   "id": "toxic-probe",
   "metadata": {},
   "outputs": [],
   "source": [
    "n_days_prior = 7\n",
    "previous = df.shift(n_days_prior)\n",
    "\n",
    "# averaging window\n",
    "days_window = 28\n",
    "\n",
    "metric = \"pelvic pain numeric\"\n",
    "df[\"pelvic_pain_vs_7_days\"] = (df[metric] - previous[metric])\n",
    "    \n",
    "fig, ax = plt.subplots(figsize=(12, 8), facecolor=\"w\")\n",
    "metric_label = metric.replace(\"_\", \" \").replace(\" numeric\", \"\")\n",
    "plt.plot(\n",
    "    df[\"pelvic_pain_vs_7_days\"].rolling(f\"{days_window}D\").mean(),\n",
    ")\n",
    "plt.axhline(y=0, color=\"gray\", linestyle=\"--\")\n",
    "plt.ylabel(f\"{metric_label} change, {days_window}-day rolling mean\")\n",
    "fig.autofmt_xdate()\n",
    "plt.title(f\"{metric_label} vs. {n_days_prior} days prior\")"
   ]
  },
  {
   "cell_type": "markdown",
   "id": "contemporary-mumbai",
   "metadata": {},
   "source": [
    "#### Does sleep quality predict changes in pelvic pain?"
   ]
  },
  {
   "cell_type": "code",
   "execution_count": null,
   "id": "vietnamese-journalism",
   "metadata": {},
   "outputs": [],
   "source": [
    "fig, ax = plt.subplots(figsize=(12, 8), facecolor=\"w\")\n",
    "sns.lineplot(\n",
    "    x=df[\"oura_binned\"],\n",
    "    y=df[\"pelvic_pain_vs_7_days\"],\n",
    ")\n",
    "plt.xlabel(\"Oura sleep score (binned)\")\n",
    "plt.ylabel(f\"{metric_label} today - {n_days_prior} days prior\")\n",
    "plt.title(f\"{metric_label} vs. {n_days_prior} days prior, by sleep score\")\n",
    "\n",
    "fig.savefig(\n",
    "    f\"{arguments['output_directory']}/pelvic_pain_vs_7_days_by_sleep_score.png\",\n",
    ")"
   ]
  },
  {
   "cell_type": "code",
   "execution_count": null,
   "id": "typical-titanium",
   "metadata": {},
   "outputs": [],
   "source": [
    "plot_timeline(\n",
    "    metric=\"pelvic_pain_vs_7_days\",\n",
    "    days_window=7,\n",
    "    only_valid_cycles=True,  # set this to false if you want to include dates without known cycle info\n",
    ")"
   ]
  },
  {
   "cell_type": "markdown",
   "id": "approximate-polymer",
   "metadata": {},
   "source": [
    "#### Does change in pain correlate with pain medication usage?\n",
    "\n",
    "Note: I switched from Acetaminophen to THC in mid-2023."
   ]
  },
  {
   "cell_type": "code",
   "execution_count": null,
   "id": "ceramic-cloud",
   "metadata": {},
   "outputs": [],
   "source": [
    "fig, ax = plt.subplots(figsize=(12, 8), facecolor=\"w\")\n",
    "sns.lineplot(\n",
    "    x=df[\"pelvic_pain_vs_7_days\"],\n",
    "    y=df[\"THC mg\"],\n",
    ")\n",
    "plt.xlabel(\"Pelvic pain vs. 7 days prior\")\n",
    "plt.ylabel(\"THC mg\")\n",
    "plt.title(\"THC taken by pelvic pain change\")"
   ]
  }
 ],
 "metadata": {
  "kernelspec": {
   "display_name": "Python 3",
   "language": "python",
   "name": "python3"
  },
  "language_info": {
   "codemirror_mode": {
    "name": "ipython",
    "version": 3
   },
   "file_extension": ".py",
   "mimetype": "text/x-python",
   "name": "python",
   "nbconvert_exporter": "python",
   "pygments_lexer": "ipython3",
   "version": "3.9.18"
  }
 },
 "nbformat": 4,
 "nbformat_minor": 5
}
