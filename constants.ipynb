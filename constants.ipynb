{
 "cells": [
  {
   "cell_type": "code",
   "execution_count": null,
   "metadata": {},
   "outputs": [],
   "source": [
    "import warnings\n",
    "warnings.filterwarnings('ignore')\n",
    "import pandas as pd\n",
    "import numpy as np\n",
    "import matplotlib.pyplot as plt\n",
    "import matplotlib.dates as mdates\n",
    "from matplotlib import rcParams\n",
    "rcParams['font.family'] = 'serif'\n",
    "rcParams['font.sans-serif'] = ['Tahoma']\n",
    "import datetime\n",
    "import re\n",
    "import json\n",
    "import subprocess\n",
    "\n",
    "import seaborn as sns\n",
    "# https://xkcd.com/color/rgb/\n",
    "# more colors\n",
    "colors = [\n",
    "    \"purple\",\n",
    "    \"green\",\n",
    "    \"blue\",\n",
    "    \"pink\",\n",
    "    \"red\",\n",
    "    \"light blue\",\n",
    "    \"orange\",\n",
    "    \"magenta\",\n",
    "    \"grey\",\n",
    "    \"lavender\",\n",
    "    \"cyan\",\n",
    "]\n",
    "sns.set_palette(sns.xkcd_palette(colors))\n",
    "\n",
    "# SHEET_FILENAME = \"data/sheet_id.txt\"\n",
    "ARGUMENTS_FILENAME = \"data/arguments.json\""
   ]
  },
  {
   "cell_type": "code",
   "execution_count": null,
   "metadata": {},
   "outputs": [],
   "source": [
    "def run_notebook(notebook_file, output_file, **arguments):\n",
    "    \"\"\"Pass arguments to a Jupyter notebook, run it and convert to html.\"\"\"\n",
    "    # Create the arguments file\n",
    "    with open(ARGUMENTS_FILENAME, \"w\") as fid:\n",
    "        json.dump(arguments, fid)\n",
    "\n",
    "    subprocess.call([\n",
    "        \"jupyter-nbconvert\",\n",
    "        \"--execute\",\n",
    "        \"--no-input\",\n",
    "        \"--to\", \"html\",\n",
    "        \"--output\", output_file,\n",
    "        notebook_file,\n",
    "    ])"
   ]
  }
 ],
 "metadata": {
  "kernelspec": {
   "display_name": "Python 3",
   "language": "python",
   "name": "python3"
  },
  "language_info": {
   "codemirror_mode": {
    "name": "ipython",
    "version": 3
   },
   "file_extension": ".py",
   "mimetype": "text/x-python",
   "name": "python",
   "nbconvert_exporter": "python",
   "pygments_lexer": "ipython3",
   "version": "3.9.18"
  }
 },
 "nbformat": 4,
 "nbformat_minor": 4
}
