{
 "cells": [
  {
   "cell_type": "code",
   "execution_count": null,
   "metadata": {},
   "outputs": [],
   "source": [
    "ARGUMENTS_FILENAME = \"data/arguments.json\"\n",
    "\n",
    "# To read Google sheets\n",
    "# you need to have a project and add a key under Credentials to allow reading a sheet\n",
    "# https://developers.google.com/workspace/explore?filter=\n",
    "# https://console.cloud.google.com/apis/credentials?pli=1\n",
    "GOOGLE_SHEETS_KEY = \"keys/health-log-406515-1f99439e3571.json\""
   ]
  },
  {
   "cell_type": "code",
   "execution_count": null,
   "metadata": {},
   "outputs": [],
   "source": [
    "import warnings\n",
    "warnings.filterwarnings('ignore')\n",
    "import pandas as pd\n",
    "import numpy as np\n",
    "import matplotlib.pyplot as plt\n",
    "import matplotlib.dates as mdates\n",
    "from matplotlib import rcParams\n",
    "rcParams['font.family'] = 'serif'\n",
    "rcParams['font.sans-serif'] = ['Tahoma']\n",
    "import datetime\n",
    "import re\n",
    "import json\n",
    "import subprocess\n",
    "from google.oauth2 import service_account\n",
    "import googleapiclient.discovery\n",
    "import pandas as pd\n",
    "import seaborn as sns\n",
    "from typing import Union\n",
    "\n",
    "# Note: this requires installing an old version of Pillow: Pillow==9.0.0\n",
    "import dataframe_image as dfi"
   ]
  },
  {
   "cell_type": "code",
   "execution_count": null,
   "metadata": {},
   "outputs": [],
   "source": [
    "def run_notebook(notebook_file, output_file, **arguments):\n",
    "    \"\"\"Pass arguments to a Jupyter notebook, run it and convert to html.\"\"\"\n",
    "    # Create the arguments file\n",
    "    with open(ARGUMENTS_FILENAME, \"w\") as fid:\n",
    "        json.dump(arguments, fid)\n",
    "\n",
    "    subprocess.call([\n",
    "        \"jupyter-nbconvert\",\n",
    "        \"--execute\",\n",
    "        \"--no-input\",\n",
    "        \"--to\", \"html\",\n",
    "        \"--output\", output_file,\n",
    "        notebook_file,\n",
    "    ])"
   ]
  },
  {
   "cell_type": "code",
   "execution_count": null,
   "metadata": {},
   "outputs": [],
   "source": [
    "# https://xkcd.com/color/rgb/\n",
    "# more colors\n",
    "colors = [\n",
    "    \"purple\",\n",
    "    \"green\",\n",
    "    \"blue\",\n",
    "    \"pink\",\n",
    "    \"red\",\n",
    "    \"light blue\",\n",
    "    \"orange\",\n",
    "    \"magenta\",\n",
    "    \"grey\",\n",
    "    \"lavender\",\n",
    "    \"cyan\",\n",
    "]\n",
    "sns.set_palette(sns.xkcd_palette(colors))"
   ]
  },
  {
   "cell_type": "code",
   "execution_count": null,
   "metadata": {},
   "outputs": [],
   "source": [
    "# https://matplotlib.org/stable/gallery/color/named_colors.html\n",
    "cervical_mucus_colors = {\n",
    "    \"B\": \"brown\",  # brown bleeding\n",
    "    \"S\": \"pink\",  # spotting\n",
    "    \"L\": \"salmon\",  # light\n",
    "    \"M\": \"tomato\",  # medium\n",
    "    \"H\": \"red\",  # heavy\n",
    "    \"EL\": \"cornflowerblue\",  # EL, mucus with some estrogen\n",
    "    \"ES\": \"royalblue\",  # ES, mucus with high estrogen\n",
    "    \"G\": \"gray\",  # dry, high in progesterone\n",
    "    \"U\": \"gold\",  # unknown\n",
    "}"
   ]
  },
  {
   "cell_type": "code",
   "execution_count": null,
   "metadata": {},
   "outputs": [],
   "source": [
    "DRUG_UNITS = [\"mg\", \"ml\", \"mcg\", \"IU\", \"tsp\", \"tbsp\"]"
   ]
  }
 ],
 "metadata": {
  "kernelspec": {
   "display_name": "Python 3",
   "language": "python",
   "name": "python3"
  },
  "language_info": {
   "codemirror_mode": {
    "name": "ipython",
    "version": 3
   },
   "file_extension": ".py",
   "mimetype": "text/x-python",
   "name": "python",
   "nbconvert_exporter": "python",
   "pygments_lexer": "ipython3",
   "version": "3.9.18"
  }
 },
 "nbformat": 4,
 "nbformat_minor": 4
}
