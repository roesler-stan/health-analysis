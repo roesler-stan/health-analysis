{
 "cells": [
  {
   "cell_type": "markdown",
   "metadata": {},
   "source": [
    "## Read google sheet into Pandas dataframe\n",
    "\n",
    "NOTE: find your service account email and share the spreadsheet with it.\n",
    "\n",
    "https://console.cloud.google.com/apis/credentials?project=health-log-406515"
   ]
  },
  {
   "cell_type": "code",
   "execution_count": 2,
   "metadata": {},
   "outputs": [],
   "source": [
    "def get_service():\n",
    "    scopes = [\"https://www.googleapis.com/auth/spreadsheets\"]\n",
    "    # Prepare credentials\n",
    "    credentials = service_account.Credentials.from_service_account_file(\n",
    "        GOOGLE_SHEETS_KEY,\n",
    "        scopes=scopes,\n",
    "    )\n",
    "    # Create service\n",
    "    service = googleapiclient.discovery.build(\n",
    "        \"sheets\",\n",
    "        \"v4\",\n",
    "        credentials=credentials,\n",
    "    )\n",
    "    return service\n",
    "\n",
    "\n",
    "def read_sheet(sheet_id, col_range):\n",
    "    service = get_service()\n",
    "    request = service.spreadsheets().values().get(\n",
    "        spreadsheetId=sheet_id,\n",
    "        range=col_range,\n",
    "    )\n",
    "    response = request.execute()\n",
    "    cols = response[\"values\"][0]\n",
    "    rows = response[\"values\"][1:]\n",
    "    df = pd.DataFrame(columns=cols)\n",
    "    \n",
    "    row_dfs = []\n",
    "    for row in rows:\n",
    "        row_dict = dict(zip(cols, row))\n",
    "        row_dfs.append(pd.DataFrame(row_dict, index=[0]))\n",
    "\n",
    "    return pd.concat(row_dfs)"
   ]
  }
 ],
 "metadata": {
  "kernelspec": {
   "display_name": "Python 3",
   "language": "python",
   "name": "python3"
  },
  "language_info": {
   "codemirror_mode": {
    "name": "ipython",
    "version": 3
   },
   "file_extension": ".py",
   "mimetype": "text/x-python",
   "name": "python",
   "nbconvert_exporter": "python",
   "pygments_lexer": "ipython3",
   "version": "3.9.18"
  }
 },
 "nbformat": 4,
 "nbformat_minor": 4
}
